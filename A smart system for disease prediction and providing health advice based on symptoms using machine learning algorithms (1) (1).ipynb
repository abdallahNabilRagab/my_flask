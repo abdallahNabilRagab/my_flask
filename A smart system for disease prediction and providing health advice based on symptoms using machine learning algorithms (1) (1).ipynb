{
 "cells": [
  {
   "cell_type": "markdown",
   "id": "e71ce4a1-17ec-4d69-9579-4e2a99a29cf5",
   "metadata": {},
   "source": [
    "<h1 style=\"font-size: 26px; color: blue; text-align: center;\">\r\n",
    "    Personalized Medical Recommendation System with Machine Learning\r\n",
    "</h1>\r\n",
    "\r\n",
    ">\r\n",
    ">\r\n"
   ]
  },
  {
   "cell_type": "markdown",
   "id": "e814aa4b-96b4-4df8-931b-dc3fa9f5e046",
   "metadata": {},
   "source": [
    "## About the System: Personalized Medical Recommendation Platform\n",
    "\n",
    "- **Innovative Technology:** A state-of-the-art platform that empowers users to take control of their health.  \n",
    "- **Machine Learning Integration:** Utilizes advanced algorithms to provide accurate predictions.  \n",
    "- **Symptom Analysis:** Processes user-input symptoms to suggest potential health conditions.  \n",
    "- **Personalized Assistance:** Designed to enhance understanding and effective health management.  \n"
   ]
  },
  {
   "cell_type": "markdown",
   "id": "50a0834e-c251-495b-aece-d9aae58f3d63",
   "metadata": {},
   "source": [
    "# load dataset & tools"
   ]
  },
  {
   "cell_type": "code",
   "execution_count": 1,
   "id": "f36370ba-a2e9-4411-ad91-b0bf2d805c90",
   "metadata": {},
   "outputs": [],
   "source": [
    "# Data generation and preprocessing\n",
    "from sklearn.datasets import make_classification\n",
    "from sklearn.model_selection import train_test_split\n",
    "from sklearn.preprocessing import LabelEncoder\n",
    "\n",
    "# Machine learning models\n",
    "from sklearn.svm import SVC\n",
    "from sklearn.ensemble import RandomForestClassifier, GradientBoostingClassifier\n",
    "from sklearn.neighbors import KNeighborsClassifier\n",
    "from sklearn.naive_bayes import MultinomialNB\n",
    "\n",
    "# Evaluation metrics\n",
    "from sklearn.metrics import accuracy_score, confusion_matrix\n",
    "\n",
    "# Data manipulation and analysis\n",
    "import pandas as pd\n",
    "import matplotlib.pyplot as plt\n",
    "import seaborn as sns\n",
    "\n",
    "\n",
    "# File system operations\n",
    "import os\n",
    "\n",
    "# Display and formatting\n",
    "from IPython.display import display, HTML\n",
    "\n",
    "# Utility libraries\n",
    "import numpy as np\n",
    "import pickle\n",
    "import sklearn\n",
    "from wordcloud import WordCloud\n",
    "\n",
    "\n",
    "# Disable all warnings\n",
    "import warnings\n",
    "warnings.filterwarnings('ignore')\n"
   ]
  },
  {
   "cell_type": "code",
   "execution_count": 2,
   "id": "8fc407d2-184f-4c55-8772-c70a6c35160d",
   "metadata": {},
   "outputs": [
    {
     "name": "stdout",
     "output_type": "stream",
     "text": [
      "Current Directory: C:\\Users\\user\\Downloads\n"
     ]
    }
   ],
   "source": [
    "\n",
    "current_directory = os.getcwd()\n",
    "\n",
    "print(\"Current Directory:\", current_directory)\n"
   ]
  },
  {
   "cell_type": "code",
   "execution_count": 3,
   "id": "6a9a1d10-c92e-416e-9cd7-058e6d1c660d",
   "metadata": {},
   "outputs": [],
   "source": [
    "new_directory = os.path.join(os.path.expanduser(\"~\"), \"Downloads\")\n",
    "os.chdir(new_directory)"
   ]
  },
  {
   "cell_type": "markdown",
   "id": "580d3d7b-47b3-42e5-8d90-b9100e846670",
   "metadata": {},
   "source": [
    "# Data Analysis and Exploration"
   ]
  },
  {
   "cell_type": "code",
   "execution_count": 4,
   "id": "6a43c406-b75c-4f48-9ca4-75bad4ef4d05",
   "metadata": {},
   "outputs": [],
   "source": [
    "df = pd.read_csv('Training.csv')"
   ]
  },
  {
   "cell_type": "code",
   "execution_count": 5,
   "id": "b0859cb9-4ced-4b8d-9661-45d4cc00a4af",
   "metadata": {},
   "outputs": [
    {
     "data": {
      "text/html": [
       "<div>\n",
       "<style scoped>\n",
       "    .dataframe tbody tr th:only-of-type {\n",
       "        vertical-align: middle;\n",
       "    }\n",
       "\n",
       "    .dataframe tbody tr th {\n",
       "        vertical-align: top;\n",
       "    }\n",
       "\n",
       "    .dataframe thead th {\n",
       "        text-align: right;\n",
       "    }\n",
       "</style>\n",
       "<table border=\"1\" class=\"dataframe\">\n",
       "  <thead>\n",
       "    <tr style=\"text-align: right;\">\n",
       "      <th></th>\n",
       "      <th>itching</th>\n",
       "      <th>skin_rash</th>\n",
       "      <th>nodal_skin_eruptions</th>\n",
       "      <th>continuous_sneezing</th>\n",
       "      <th>shivering</th>\n",
       "      <th>chills</th>\n",
       "      <th>joint_pain</th>\n",
       "      <th>stomach_pain</th>\n",
       "      <th>acidity</th>\n",
       "      <th>ulcers_on_tongue</th>\n",
       "      <th>...</th>\n",
       "      <th>blackheads</th>\n",
       "      <th>scurring</th>\n",
       "      <th>skin_peeling</th>\n",
       "      <th>silver_like_dusting</th>\n",
       "      <th>small_dents_in_nails</th>\n",
       "      <th>inflammatory_nails</th>\n",
       "      <th>blister</th>\n",
       "      <th>red_sore_around_nose</th>\n",
       "      <th>yellow_crust_ooze</th>\n",
       "      <th>prognosis</th>\n",
       "    </tr>\n",
       "  </thead>\n",
       "  <tbody>\n",
       "    <tr>\n",
       "      <th>0</th>\n",
       "      <td>1</td>\n",
       "      <td>1</td>\n",
       "      <td>1</td>\n",
       "      <td>0</td>\n",
       "      <td>0</td>\n",
       "      <td>0</td>\n",
       "      <td>0</td>\n",
       "      <td>0</td>\n",
       "      <td>0</td>\n",
       "      <td>0</td>\n",
       "      <td>...</td>\n",
       "      <td>0</td>\n",
       "      <td>0</td>\n",
       "      <td>0</td>\n",
       "      <td>0</td>\n",
       "      <td>0</td>\n",
       "      <td>0</td>\n",
       "      <td>0</td>\n",
       "      <td>0</td>\n",
       "      <td>0</td>\n",
       "      <td>Fungal infection</td>\n",
       "    </tr>\n",
       "    <tr>\n",
       "      <th>1</th>\n",
       "      <td>0</td>\n",
       "      <td>1</td>\n",
       "      <td>1</td>\n",
       "      <td>0</td>\n",
       "      <td>0</td>\n",
       "      <td>0</td>\n",
       "      <td>0</td>\n",
       "      <td>0</td>\n",
       "      <td>0</td>\n",
       "      <td>0</td>\n",
       "      <td>...</td>\n",
       "      <td>0</td>\n",
       "      <td>0</td>\n",
       "      <td>0</td>\n",
       "      <td>0</td>\n",
       "      <td>0</td>\n",
       "      <td>0</td>\n",
       "      <td>0</td>\n",
       "      <td>0</td>\n",
       "      <td>0</td>\n",
       "      <td>Fungal infection</td>\n",
       "    </tr>\n",
       "    <tr>\n",
       "      <th>2</th>\n",
       "      <td>1</td>\n",
       "      <td>0</td>\n",
       "      <td>1</td>\n",
       "      <td>0</td>\n",
       "      <td>0</td>\n",
       "      <td>0</td>\n",
       "      <td>0</td>\n",
       "      <td>0</td>\n",
       "      <td>0</td>\n",
       "      <td>0</td>\n",
       "      <td>...</td>\n",
       "      <td>0</td>\n",
       "      <td>0</td>\n",
       "      <td>0</td>\n",
       "      <td>0</td>\n",
       "      <td>0</td>\n",
       "      <td>0</td>\n",
       "      <td>0</td>\n",
       "      <td>0</td>\n",
       "      <td>0</td>\n",
       "      <td>Fungal infection</td>\n",
       "    </tr>\n",
       "    <tr>\n",
       "      <th>3</th>\n",
       "      <td>1</td>\n",
       "      <td>1</td>\n",
       "      <td>0</td>\n",
       "      <td>0</td>\n",
       "      <td>0</td>\n",
       "      <td>0</td>\n",
       "      <td>0</td>\n",
       "      <td>0</td>\n",
       "      <td>0</td>\n",
       "      <td>0</td>\n",
       "      <td>...</td>\n",
       "      <td>0</td>\n",
       "      <td>0</td>\n",
       "      <td>0</td>\n",
       "      <td>0</td>\n",
       "      <td>0</td>\n",
       "      <td>0</td>\n",
       "      <td>0</td>\n",
       "      <td>0</td>\n",
       "      <td>0</td>\n",
       "      <td>Fungal infection</td>\n",
       "    </tr>\n",
       "    <tr>\n",
       "      <th>4</th>\n",
       "      <td>1</td>\n",
       "      <td>1</td>\n",
       "      <td>1</td>\n",
       "      <td>0</td>\n",
       "      <td>0</td>\n",
       "      <td>0</td>\n",
       "      <td>0</td>\n",
       "      <td>0</td>\n",
       "      <td>0</td>\n",
       "      <td>0</td>\n",
       "      <td>...</td>\n",
       "      <td>0</td>\n",
       "      <td>0</td>\n",
       "      <td>0</td>\n",
       "      <td>0</td>\n",
       "      <td>0</td>\n",
       "      <td>0</td>\n",
       "      <td>0</td>\n",
       "      <td>0</td>\n",
       "      <td>0</td>\n",
       "      <td>Fungal infection</td>\n",
       "    </tr>\n",
       "    <tr>\n",
       "      <th>...</th>\n",
       "      <td>...</td>\n",
       "      <td>...</td>\n",
       "      <td>...</td>\n",
       "      <td>...</td>\n",
       "      <td>...</td>\n",
       "      <td>...</td>\n",
       "      <td>...</td>\n",
       "      <td>...</td>\n",
       "      <td>...</td>\n",
       "      <td>...</td>\n",
       "      <td>...</td>\n",
       "      <td>...</td>\n",
       "      <td>...</td>\n",
       "      <td>...</td>\n",
       "      <td>...</td>\n",
       "      <td>...</td>\n",
       "      <td>...</td>\n",
       "      <td>...</td>\n",
       "      <td>...</td>\n",
       "      <td>...</td>\n",
       "      <td>...</td>\n",
       "    </tr>\n",
       "    <tr>\n",
       "      <th>4915</th>\n",
       "      <td>0</td>\n",
       "      <td>0</td>\n",
       "      <td>0</td>\n",
       "      <td>0</td>\n",
       "      <td>0</td>\n",
       "      <td>0</td>\n",
       "      <td>0</td>\n",
       "      <td>0</td>\n",
       "      <td>0</td>\n",
       "      <td>0</td>\n",
       "      <td>...</td>\n",
       "      <td>0</td>\n",
       "      <td>0</td>\n",
       "      <td>0</td>\n",
       "      <td>0</td>\n",
       "      <td>0</td>\n",
       "      <td>0</td>\n",
       "      <td>0</td>\n",
       "      <td>0</td>\n",
       "      <td>0</td>\n",
       "      <td>(vertigo) Paroymsal  Positional Vertigo</td>\n",
       "    </tr>\n",
       "    <tr>\n",
       "      <th>4916</th>\n",
       "      <td>0</td>\n",
       "      <td>1</td>\n",
       "      <td>0</td>\n",
       "      <td>0</td>\n",
       "      <td>0</td>\n",
       "      <td>0</td>\n",
       "      <td>0</td>\n",
       "      <td>0</td>\n",
       "      <td>0</td>\n",
       "      <td>0</td>\n",
       "      <td>...</td>\n",
       "      <td>1</td>\n",
       "      <td>1</td>\n",
       "      <td>0</td>\n",
       "      <td>0</td>\n",
       "      <td>0</td>\n",
       "      <td>0</td>\n",
       "      <td>0</td>\n",
       "      <td>0</td>\n",
       "      <td>0</td>\n",
       "      <td>Acne</td>\n",
       "    </tr>\n",
       "    <tr>\n",
       "      <th>4917</th>\n",
       "      <td>0</td>\n",
       "      <td>0</td>\n",
       "      <td>0</td>\n",
       "      <td>0</td>\n",
       "      <td>0</td>\n",
       "      <td>0</td>\n",
       "      <td>0</td>\n",
       "      <td>0</td>\n",
       "      <td>0</td>\n",
       "      <td>0</td>\n",
       "      <td>...</td>\n",
       "      <td>0</td>\n",
       "      <td>0</td>\n",
       "      <td>0</td>\n",
       "      <td>0</td>\n",
       "      <td>0</td>\n",
       "      <td>0</td>\n",
       "      <td>0</td>\n",
       "      <td>0</td>\n",
       "      <td>0</td>\n",
       "      <td>Urinary tract infection</td>\n",
       "    </tr>\n",
       "    <tr>\n",
       "      <th>4918</th>\n",
       "      <td>0</td>\n",
       "      <td>1</td>\n",
       "      <td>0</td>\n",
       "      <td>0</td>\n",
       "      <td>0</td>\n",
       "      <td>0</td>\n",
       "      <td>1</td>\n",
       "      <td>0</td>\n",
       "      <td>0</td>\n",
       "      <td>0</td>\n",
       "      <td>...</td>\n",
       "      <td>0</td>\n",
       "      <td>0</td>\n",
       "      <td>1</td>\n",
       "      <td>1</td>\n",
       "      <td>1</td>\n",
       "      <td>1</td>\n",
       "      <td>0</td>\n",
       "      <td>0</td>\n",
       "      <td>0</td>\n",
       "      <td>Psoriasis</td>\n",
       "    </tr>\n",
       "    <tr>\n",
       "      <th>4919</th>\n",
       "      <td>0</td>\n",
       "      <td>1</td>\n",
       "      <td>0</td>\n",
       "      <td>0</td>\n",
       "      <td>0</td>\n",
       "      <td>0</td>\n",
       "      <td>0</td>\n",
       "      <td>0</td>\n",
       "      <td>0</td>\n",
       "      <td>0</td>\n",
       "      <td>...</td>\n",
       "      <td>0</td>\n",
       "      <td>0</td>\n",
       "      <td>0</td>\n",
       "      <td>0</td>\n",
       "      <td>0</td>\n",
       "      <td>0</td>\n",
       "      <td>1</td>\n",
       "      <td>1</td>\n",
       "      <td>1</td>\n",
       "      <td>Impetigo</td>\n",
       "    </tr>\n",
       "  </tbody>\n",
       "</table>\n",
       "<p>4920 rows × 133 columns</p>\n",
       "</div>"
      ],
      "text/plain": [
       "      itching  skin_rash  nodal_skin_eruptions  continuous_sneezing  \\\n",
       "0           1          1                     1                    0   \n",
       "1           0          1                     1                    0   \n",
       "2           1          0                     1                    0   \n",
       "3           1          1                     0                    0   \n",
       "4           1          1                     1                    0   \n",
       "...       ...        ...                   ...                  ...   \n",
       "4915        0          0                     0                    0   \n",
       "4916        0          1                     0                    0   \n",
       "4917        0          0                     0                    0   \n",
       "4918        0          1                     0                    0   \n",
       "4919        0          1                     0                    0   \n",
       "\n",
       "      shivering  chills  joint_pain  stomach_pain  acidity  ulcers_on_tongue  \\\n",
       "0             0       0           0             0        0                 0   \n",
       "1             0       0           0             0        0                 0   \n",
       "2             0       0           0             0        0                 0   \n",
       "3             0       0           0             0        0                 0   \n",
       "4             0       0           0             0        0                 0   \n",
       "...         ...     ...         ...           ...      ...               ...   \n",
       "4915          0       0           0             0        0                 0   \n",
       "4916          0       0           0             0        0                 0   \n",
       "4917          0       0           0             0        0                 0   \n",
       "4918          0       0           1             0        0                 0   \n",
       "4919          0       0           0             0        0                 0   \n",
       "\n",
       "      ...  blackheads  scurring  skin_peeling  silver_like_dusting  \\\n",
       "0     ...           0         0             0                    0   \n",
       "1     ...           0         0             0                    0   \n",
       "2     ...           0         0             0                    0   \n",
       "3     ...           0         0             0                    0   \n",
       "4     ...           0         0             0                    0   \n",
       "...   ...         ...       ...           ...                  ...   \n",
       "4915  ...           0         0             0                    0   \n",
       "4916  ...           1         1             0                    0   \n",
       "4917  ...           0         0             0                    0   \n",
       "4918  ...           0         0             1                    1   \n",
       "4919  ...           0         0             0                    0   \n",
       "\n",
       "      small_dents_in_nails  inflammatory_nails  blister  red_sore_around_nose  \\\n",
       "0                        0                   0        0                     0   \n",
       "1                        0                   0        0                     0   \n",
       "2                        0                   0        0                     0   \n",
       "3                        0                   0        0                     0   \n",
       "4                        0                   0        0                     0   \n",
       "...                    ...                 ...      ...                   ...   \n",
       "4915                     0                   0        0                     0   \n",
       "4916                     0                   0        0                     0   \n",
       "4917                     0                   0        0                     0   \n",
       "4918                     1                   1        0                     0   \n",
       "4919                     0                   0        1                     1   \n",
       "\n",
       "      yellow_crust_ooze                                prognosis  \n",
       "0                     0                         Fungal infection  \n",
       "1                     0                         Fungal infection  \n",
       "2                     0                         Fungal infection  \n",
       "3                     0                         Fungal infection  \n",
       "4                     0                         Fungal infection  \n",
       "...                 ...                                      ...  \n",
       "4915                  0  (vertigo) Paroymsal  Positional Vertigo  \n",
       "4916                  0                                     Acne  \n",
       "4917                  0                  Urinary tract infection  \n",
       "4918                  0                                Psoriasis  \n",
       "4919                  1                                 Impetigo  \n",
       "\n",
       "[4920 rows x 133 columns]"
      ]
     },
     "execution_count": 5,
     "metadata": {},
     "output_type": "execute_result"
    }
   ],
   "source": [
    "df"
   ]
  },
  {
   "cell_type": "code",
   "execution_count": 6,
   "id": "ee24ed35-06c8-4e85-8cd0-bf8a8a0045bb",
   "metadata": {},
   "outputs": [
    {
     "data": {
      "text/html": [
       "<div>\n",
       "<style scoped>\n",
       "    .dataframe tbody tr th:only-of-type {\n",
       "        vertical-align: middle;\n",
       "    }\n",
       "\n",
       "    .dataframe tbody tr th {\n",
       "        vertical-align: top;\n",
       "    }\n",
       "\n",
       "    .dataframe thead th {\n",
       "        text-align: right;\n",
       "    }\n",
       "</style>\n",
       "<table border=\"1\" class=\"dataframe\">\n",
       "  <thead>\n",
       "    <tr style=\"text-align: right;\">\n",
       "      <th></th>\n",
       "      <th>itching</th>\n",
       "      <th>skin_rash</th>\n",
       "      <th>nodal_skin_eruptions</th>\n",
       "      <th>continuous_sneezing</th>\n",
       "      <th>shivering</th>\n",
       "      <th>chills</th>\n",
       "      <th>joint_pain</th>\n",
       "      <th>stomach_pain</th>\n",
       "      <th>acidity</th>\n",
       "      <th>ulcers_on_tongue</th>\n",
       "      <th>...</th>\n",
       "      <th>blackheads</th>\n",
       "      <th>scurring</th>\n",
       "      <th>skin_peeling</th>\n",
       "      <th>silver_like_dusting</th>\n",
       "      <th>small_dents_in_nails</th>\n",
       "      <th>inflammatory_nails</th>\n",
       "      <th>blister</th>\n",
       "      <th>red_sore_around_nose</th>\n",
       "      <th>yellow_crust_ooze</th>\n",
       "      <th>prognosis</th>\n",
       "    </tr>\n",
       "  </thead>\n",
       "  <tbody>\n",
       "    <tr>\n",
       "      <th>0</th>\n",
       "      <td>1</td>\n",
       "      <td>1</td>\n",
       "      <td>1</td>\n",
       "      <td>0</td>\n",
       "      <td>0</td>\n",
       "      <td>0</td>\n",
       "      <td>0</td>\n",
       "      <td>0</td>\n",
       "      <td>0</td>\n",
       "      <td>0</td>\n",
       "      <td>...</td>\n",
       "      <td>0</td>\n",
       "      <td>0</td>\n",
       "      <td>0</td>\n",
       "      <td>0</td>\n",
       "      <td>0</td>\n",
       "      <td>0</td>\n",
       "      <td>0</td>\n",
       "      <td>0</td>\n",
       "      <td>0</td>\n",
       "      <td>Fungal infection</td>\n",
       "    </tr>\n",
       "    <tr>\n",
       "      <th>1</th>\n",
       "      <td>0</td>\n",
       "      <td>1</td>\n",
       "      <td>1</td>\n",
       "      <td>0</td>\n",
       "      <td>0</td>\n",
       "      <td>0</td>\n",
       "      <td>0</td>\n",
       "      <td>0</td>\n",
       "      <td>0</td>\n",
       "      <td>0</td>\n",
       "      <td>...</td>\n",
       "      <td>0</td>\n",
       "      <td>0</td>\n",
       "      <td>0</td>\n",
       "      <td>0</td>\n",
       "      <td>0</td>\n",
       "      <td>0</td>\n",
       "      <td>0</td>\n",
       "      <td>0</td>\n",
       "      <td>0</td>\n",
       "      <td>Fungal infection</td>\n",
       "    </tr>\n",
       "    <tr>\n",
       "      <th>2</th>\n",
       "      <td>1</td>\n",
       "      <td>0</td>\n",
       "      <td>1</td>\n",
       "      <td>0</td>\n",
       "      <td>0</td>\n",
       "      <td>0</td>\n",
       "      <td>0</td>\n",
       "      <td>0</td>\n",
       "      <td>0</td>\n",
       "      <td>0</td>\n",
       "      <td>...</td>\n",
       "      <td>0</td>\n",
       "      <td>0</td>\n",
       "      <td>0</td>\n",
       "      <td>0</td>\n",
       "      <td>0</td>\n",
       "      <td>0</td>\n",
       "      <td>0</td>\n",
       "      <td>0</td>\n",
       "      <td>0</td>\n",
       "      <td>Fungal infection</td>\n",
       "    </tr>\n",
       "    <tr>\n",
       "      <th>3</th>\n",
       "      <td>1</td>\n",
       "      <td>1</td>\n",
       "      <td>0</td>\n",
       "      <td>0</td>\n",
       "      <td>0</td>\n",
       "      <td>0</td>\n",
       "      <td>0</td>\n",
       "      <td>0</td>\n",
       "      <td>0</td>\n",
       "      <td>0</td>\n",
       "      <td>...</td>\n",
       "      <td>0</td>\n",
       "      <td>0</td>\n",
       "      <td>0</td>\n",
       "      <td>0</td>\n",
       "      <td>0</td>\n",
       "      <td>0</td>\n",
       "      <td>0</td>\n",
       "      <td>0</td>\n",
       "      <td>0</td>\n",
       "      <td>Fungal infection</td>\n",
       "    </tr>\n",
       "    <tr>\n",
       "      <th>4</th>\n",
       "      <td>1</td>\n",
       "      <td>1</td>\n",
       "      <td>1</td>\n",
       "      <td>0</td>\n",
       "      <td>0</td>\n",
       "      <td>0</td>\n",
       "      <td>0</td>\n",
       "      <td>0</td>\n",
       "      <td>0</td>\n",
       "      <td>0</td>\n",
       "      <td>...</td>\n",
       "      <td>0</td>\n",
       "      <td>0</td>\n",
       "      <td>0</td>\n",
       "      <td>0</td>\n",
       "      <td>0</td>\n",
       "      <td>0</td>\n",
       "      <td>0</td>\n",
       "      <td>0</td>\n",
       "      <td>0</td>\n",
       "      <td>Fungal infection</td>\n",
       "    </tr>\n",
       "  </tbody>\n",
       "</table>\n",
       "<p>5 rows × 133 columns</p>\n",
       "</div>"
      ],
      "text/plain": [
       "   itching  skin_rash  nodal_skin_eruptions  continuous_sneezing  shivering  \\\n",
       "0        1          1                     1                    0          0   \n",
       "1        0          1                     1                    0          0   \n",
       "2        1          0                     1                    0          0   \n",
       "3        1          1                     0                    0          0   \n",
       "4        1          1                     1                    0          0   \n",
       "\n",
       "   chills  joint_pain  stomach_pain  acidity  ulcers_on_tongue  ...  \\\n",
       "0       0           0             0        0                 0  ...   \n",
       "1       0           0             0        0                 0  ...   \n",
       "2       0           0             0        0                 0  ...   \n",
       "3       0           0             0        0                 0  ...   \n",
       "4       0           0             0        0                 0  ...   \n",
       "\n",
       "   blackheads  scurring  skin_peeling  silver_like_dusting  \\\n",
       "0           0         0             0                    0   \n",
       "1           0         0             0                    0   \n",
       "2           0         0             0                    0   \n",
       "3           0         0             0                    0   \n",
       "4           0         0             0                    0   \n",
       "\n",
       "   small_dents_in_nails  inflammatory_nails  blister  red_sore_around_nose  \\\n",
       "0                     0                   0        0                     0   \n",
       "1                     0                   0        0                     0   \n",
       "2                     0                   0        0                     0   \n",
       "3                     0                   0        0                     0   \n",
       "4                     0                   0        0                     0   \n",
       "\n",
       "   yellow_crust_ooze         prognosis  \n",
       "0                  0  Fungal infection  \n",
       "1                  0  Fungal infection  \n",
       "2                  0  Fungal infection  \n",
       "3                  0  Fungal infection  \n",
       "4                  0  Fungal infection  \n",
       "\n",
       "[5 rows x 133 columns]"
      ]
     },
     "execution_count": 6,
     "metadata": {},
     "output_type": "execute_result"
    }
   ],
   "source": [
    "\n",
    "# Inspect the first 5 rows of the data\n",
    "df.head()  # Display the first 5 rows of the dataset\n"
   ]
  },
  {
   "cell_type": "code",
   "execution_count": 7,
   "id": "d8646c2a-5df1-47c5-8cdf-6891e49b9694",
   "metadata": {},
   "outputs": [
    {
     "name": "stdout",
     "output_type": "stream",
     "text": [
      "<class 'pandas.core.frame.DataFrame'>\n",
      "RangeIndex: 4920 entries, 0 to 4919\n",
      "Columns: 133 entries, itching to prognosis\n",
      "dtypes: int64(132), object(1)\n",
      "memory usage: 5.0+ MB\n"
     ]
    }
   ],
   "source": [
    "\n",
    "# Get detailed information about the columns, including data types and missing values\n",
    "df.info()  # Show summary information about the dataset"
   ]
  },
  {
   "cell_type": "code",
   "execution_count": 8,
   "id": "360aa6a0-e4b0-4182-9290-95adf8320dd1",
   "metadata": {},
   "outputs": [
    {
     "name": "stdout",
     "output_type": "stream",
     "text": [
      "itching                 0\n",
      "skin_rash               0\n",
      "nodal_skin_eruptions    0\n",
      "continuous_sneezing     0\n",
      "shivering               0\n",
      "                       ..\n",
      "inflammatory_nails      0\n",
      "blister                 0\n",
      "red_sore_around_nose    0\n",
      "yellow_crust_ooze       0\n",
      "prognosis               0\n",
      "Length: 133, dtype: int64\n"
     ]
    }
   ],
   "source": [
    "\n",
    "# Check for missing values in each column\n",
    "print(df.isnull().sum())  # Count the number of missing values in each column\n"
   ]
  },
  {
   "cell_type": "code",
   "execution_count": 9,
   "id": "d2d05265-8d3b-4bcb-9ec8-ce8d9daa686e",
   "metadata": {},
   "outputs": [
    {
     "name": "stdout",
     "output_type": "stream",
     "text": [
      "itching                  2\n",
      "skin_rash                2\n",
      "nodal_skin_eruptions     2\n",
      "continuous_sneezing      2\n",
      "shivering                2\n",
      "                        ..\n",
      "inflammatory_nails       2\n",
      "blister                  2\n",
      "red_sore_around_nose     2\n",
      "yellow_crust_ooze        2\n",
      "prognosis               41\n",
      "Length: 133, dtype: int64\n"
     ]
    }
   ],
   "source": [
    "\n",
    "# Get the number of unique values in each column\n",
    "print(df.nunique())  # Show the number of unique values for each column\n"
   ]
  },
  {
   "cell_type": "code",
   "execution_count": 10,
   "id": "691790b7-5c2f-4861-9e5c-52659c42ffb5",
   "metadata": {},
   "outputs": [
    {
     "data": {
      "text/plain": [
       "(4920, 133)"
      ]
     },
     "execution_count": 10,
     "metadata": {},
     "output_type": "execute_result"
    }
   ],
   "source": [
    "df.shape"
   ]
  },
  {
   "cell_type": "code",
   "execution_count": 11,
   "id": "5a764e50-a263-4ba5-a368-adbd980011f9",
   "metadata": {},
   "outputs": [
    {
     "data": {
      "text/plain": [
       "41"
      ]
     },
     "execution_count": 11,
     "metadata": {},
     "output_type": "execute_result"
    }
   ],
   "source": [
    "len(df['prognosis'].unique())"
   ]
  },
  {
   "cell_type": "code",
   "execution_count": 12,
   "id": "beee7921-a430-49fa-9588-a06632ec9c3a",
   "metadata": {},
   "outputs": [
    {
     "data": {
      "text/plain": [
       "array(['Fungal infection', 'Allergy', 'GERD', 'Chronic cholestasis',\n",
       "       'Drug Reaction', 'Peptic ulcer diseae', 'AIDS', 'Diabetes ',\n",
       "       'Gastroenteritis', 'Bronchial Asthma', 'Hypertension ', 'Migraine',\n",
       "       'Cervical spondylosis', 'Paralysis (brain hemorrhage)', 'Jaundice',\n",
       "       'Malaria', 'Chicken pox', 'Dengue', 'Typhoid', 'hepatitis A',\n",
       "       'Hepatitis B', 'Hepatitis C', 'Hepatitis D', 'Hepatitis E',\n",
       "       'Alcoholic hepatitis', 'Tuberculosis', 'Common Cold', 'Pneumonia',\n",
       "       'Dimorphic hemmorhoids(piles)', 'Heart attack', 'Varicose veins',\n",
       "       'Hypothyroidism', 'Hyperthyroidism', 'Hypoglycemia',\n",
       "       'Osteoarthristis', 'Arthritis',\n",
       "       '(vertigo) Paroymsal  Positional Vertigo', 'Acne',\n",
       "       'Urinary tract infection', 'Psoriasis', 'Impetigo'], dtype=object)"
      ]
     },
     "execution_count": 12,
     "metadata": {},
     "output_type": "execute_result"
    }
   ],
   "source": [
    "df['prognosis'].unique()"
   ]
  },
  {
   "cell_type": "code",
   "execution_count": 13,
   "id": "593ed9c9-e4bf-42b8-a3f8-ccdaed77d4f8",
   "metadata": {},
   "outputs": [
    {
     "name": "stdout",
     "output_type": "stream",
     "text": [
      "Number of Duplicate Rows: 4616\n"
     ]
    }
   ],
   "source": [
    "# Check for duplicates\n",
    "duplicates = df.duplicated().sum()\n",
    "print(f\"Number of Duplicate Rows: {duplicates}\")"
   ]
  },
  {
   "cell_type": "code",
   "execution_count": 14,
   "id": "d750ad6c-79cf-4dca-abc8-bb4231522d10",
   "metadata": {},
   "outputs": [
    {
     "name": "stdout",
     "output_type": "stream",
     "text": [
      "\n",
      "Basic Descriptive Statistics (for numerical columns):\n",
      "           itching    skin_rash  nodal_skin_eruptions  continuous_sneezing  \\\n",
      "count  4920.000000  4920.000000           4920.000000          4920.000000   \n",
      "mean      0.137805     0.159756              0.021951             0.045122   \n",
      "std       0.344730     0.366417              0.146539             0.207593   \n",
      "min       0.000000     0.000000              0.000000             0.000000   \n",
      "25%       0.000000     0.000000              0.000000             0.000000   \n",
      "50%       0.000000     0.000000              0.000000             0.000000   \n",
      "75%       0.000000     0.000000              0.000000             0.000000   \n",
      "max       1.000000     1.000000              1.000000             1.000000   \n",
      "\n",
      "         shivering       chills   joint_pain  stomach_pain      acidity  \\\n",
      "count  4920.000000  4920.000000  4920.000000   4920.000000  4920.000000   \n",
      "mean      0.021951     0.162195     0.139024      0.045122     0.045122   \n",
      "std       0.146539     0.368667     0.346007      0.207593     0.207593   \n",
      "min       0.000000     0.000000     0.000000      0.000000     0.000000   \n",
      "25%       0.000000     0.000000     0.000000      0.000000     0.000000   \n",
      "50%       0.000000     0.000000     0.000000      0.000000     0.000000   \n",
      "75%       0.000000     0.000000     0.000000      0.000000     0.000000   \n",
      "max       1.000000     1.000000     1.000000      1.000000     1.000000   \n",
      "\n",
      "       ulcers_on_tongue  ...  pus_filled_pimples   blackheads     scurring  \\\n",
      "count       4920.000000  ...         4920.000000  4920.000000  4920.000000   \n",
      "mean           0.021951  ...            0.021951     0.021951     0.021951   \n",
      "std            0.146539  ...            0.146539     0.146539     0.146539   \n",
      "min            0.000000  ...            0.000000     0.000000     0.000000   \n",
      "25%            0.000000  ...            0.000000     0.000000     0.000000   \n",
      "50%            0.000000  ...            0.000000     0.000000     0.000000   \n",
      "75%            0.000000  ...            0.000000     0.000000     0.000000   \n",
      "max            1.000000  ...            1.000000     1.000000     1.000000   \n",
      "\n",
      "       skin_peeling  silver_like_dusting  small_dents_in_nails  \\\n",
      "count   4920.000000          4920.000000           4920.000000   \n",
      "mean       0.023171             0.023171              0.023171   \n",
      "std        0.150461             0.150461              0.150461   \n",
      "min        0.000000             0.000000              0.000000   \n",
      "25%        0.000000             0.000000              0.000000   \n",
      "50%        0.000000             0.000000              0.000000   \n",
      "75%        0.000000             0.000000              0.000000   \n",
      "max        1.000000             1.000000              1.000000   \n",
      "\n",
      "       inflammatory_nails      blister  red_sore_around_nose  \\\n",
      "count         4920.000000  4920.000000           4920.000000   \n",
      "mean             0.023171     0.023171              0.023171   \n",
      "std              0.150461     0.150461              0.150461   \n",
      "min              0.000000     0.000000              0.000000   \n",
      "25%              0.000000     0.000000              0.000000   \n",
      "50%              0.000000     0.000000              0.000000   \n",
      "75%              0.000000     0.000000              0.000000   \n",
      "max              1.000000     1.000000              1.000000   \n",
      "\n",
      "       yellow_crust_ooze  \n",
      "count        4920.000000  \n",
      "mean            0.023171  \n",
      "std             0.150461  \n",
      "min             0.000000  \n",
      "25%             0.000000  \n",
      "50%             0.000000  \n",
      "75%             0.000000  \n",
      "max             1.000000  \n",
      "\n",
      "[8 rows x 132 columns]\n"
     ]
    }
   ],
   "source": [
    "\n",
    "# Numerical analysis: Basic descriptive statistics (if applicable)\n",
    "print(\"\\nBasic Descriptive Statistics (for numerical columns):\")\n",
    "print(df.describe())"
   ]
  },
  {
   "cell_type": "markdown",
   "id": "f9036e86-e8a3-4e17-9df0-bd7f36124d22",
   "metadata": {},
   "source": [
    "# train test split"
   ]
  },
  {
   "cell_type": "code",
   "execution_count": 15,
   "id": "4a1b207f-3967-4270-9da3-552c2b92834f",
   "metadata": {},
   "outputs": [],
   "source": [
    "X = df.drop('prognosis', axis=1)\n",
    "y = df['prognosis']\n",
    "\n",
    "# ecoding prognonsis\n",
    "le = LabelEncoder()\n",
    "le.fit(y)\n",
    "Y = le.transform(y)\n",
    "    \n",
    "X_train, X_test, y_train, y_test = train_test_split(X, Y, test_size=0.3, random_state=20)"
   ]
  },
  {
   "cell_type": "code",
   "execution_count": 16,
   "id": "6f457a69-5660-4715-951e-54a43ce663f6",
   "metadata": {},
   "outputs": [
    {
     "data": {
      "text/plain": [
       "((3444, 132), (1476, 132), (3444,), (1476,))"
      ]
     },
     "execution_count": 16,
     "metadata": {},
     "output_type": "execute_result"
    }
   ],
   "source": [
    "X_train.shape, X_test.shape, y_train.shape, y_test.shape"
   ]
  },
  {
   "cell_type": "markdown",
   "id": "f4d3332d-7c7b-44b2-95cb-ffc0742767aa",
   "metadata": {},
   "source": [
    "# Training top models"
   ]
  },
  {
   "cell_type": "code",
   "execution_count": 17,
   "id": "5a34785b-2e27-4141-964a-8b2533177602",
   "metadata": {},
   "outputs": [],
   "source": [
    "# Create a dictionary to store models\n",
    "models = {\n",
    "    'SVC': SVC(kernel='linear'), \n",
    "    'RandomForest': RandomForestClassifier(n_estimators=100, random_state=42),\n",
    "    'GradientBoosting': GradientBoostingClassifier(n_estimators=100, random_state=42),\n",
    "    'KNeighbors': KNeighborsClassifier(n_neighbors=5),\n",
    "    'MultinomialNB': MultinomialNB()\n",
    "}"
   ]
  },
  {
   "cell_type": "code",
   "execution_count": 18,
   "id": "efac7cb4-1f4b-4e7e-945f-e95782488189",
   "metadata": {},
   "outputs": [
    {
     "name": "stdout",
     "output_type": "stream",
     "text": [
      "SVC Accuracy: 1.0\n",
      "SVC Confusion Matrix:\n",
      "[[40,  0,  0, ...,  0,  0,  0],\n",
      " [ 0, 43,  0, ...,  0,  0,  0],\n",
      " [ 0,  0, 28, ...,  0,  0,  0],\n",
      " ...,\n",
      " [ 0,  0,  0, ..., 34,  0,  0],\n",
      " [ 0,  0,  0, ...,  0, 41,  0],\n",
      " [ 0,  0,  0, ...,  0,  0, 31]]\n",
      "\n",
      "==================================================\n",
      "\n",
      "RandomForest Accuracy: 1.0\n",
      "RandomForest Confusion Matrix:\n",
      "[[40,  0,  0, ...,  0,  0,  0],\n",
      " [ 0, 43,  0, ...,  0,  0,  0],\n",
      " [ 0,  0, 28, ...,  0,  0,  0],\n",
      " ...,\n",
      " [ 0,  0,  0, ..., 34,  0,  0],\n",
      " [ 0,  0,  0, ...,  0, 41,  0],\n",
      " [ 0,  0,  0, ...,  0,  0, 31]]\n",
      "\n",
      "==================================================\n",
      "\n",
      "GradientBoosting Accuracy: 1.0\n",
      "GradientBoosting Confusion Matrix:\n",
      "[[40,  0,  0, ...,  0,  0,  0],\n",
      " [ 0, 43,  0, ...,  0,  0,  0],\n",
      " [ 0,  0, 28, ...,  0,  0,  0],\n",
      " ...,\n",
      " [ 0,  0,  0, ..., 34,  0,  0],\n",
      " [ 0,  0,  0, ...,  0, 41,  0],\n",
      " [ 0,  0,  0, ...,  0,  0, 31]]\n",
      "\n",
      "==================================================\n",
      "\n",
      "KNeighbors Accuracy: 1.0\n",
      "KNeighbors Confusion Matrix:\n",
      "[[40,  0,  0, ...,  0,  0,  0],\n",
      " [ 0, 43,  0, ...,  0,  0,  0],\n",
      " [ 0,  0, 28, ...,  0,  0,  0],\n",
      " ...,\n",
      " [ 0,  0,  0, ..., 34,  0,  0],\n",
      " [ 0,  0,  0, ...,  0, 41,  0],\n",
      " [ 0,  0,  0, ...,  0,  0, 31]]\n",
      "\n",
      "==================================================\n",
      "\n",
      "MultinomialNB Accuracy: 1.0\n",
      "MultinomialNB Confusion Matrix:\n",
      "[[40,  0,  0, ...,  0,  0,  0],\n",
      " [ 0, 43,  0, ...,  0,  0,  0],\n",
      " [ 0,  0, 28, ...,  0,  0,  0],\n",
      " ...,\n",
      " [ 0,  0,  0, ..., 34,  0,  0],\n",
      " [ 0,  0,  0, ...,  0, 41,  0],\n",
      " [ 0,  0,  0, ...,  0,  0, 31]]\n",
      "\n",
      "==================================================\n",
      "\n"
     ]
    }
   ],
   "source": [
    "# Loop through the models, train, test, and print results\n",
    "for model_name, model in models.items():\n",
    "    # Train the model\n",
    "    model.fit(X_train, y_train)\n",
    "\n",
    "    # Test the model\n",
    "    predictions = model.predict(X_test)\n",
    "\n",
    "    # Calculate accuracy\n",
    "    accuracy = accuracy_score(y_test, predictions)\n",
    "    print(f\"{model_name} Accuracy: {accuracy}\")\n",
    "\n",
    "    # Calculate confusion matrix\n",
    "    cm = confusion_matrix(y_test, predictions)\n",
    "    print(f\"{model_name} Confusion Matrix:\")\n",
    "    print(np.array2string(cm, separator=', '))\n",
    "\n",
    "    print(\"\\n\" + \"=\"*50 + \"\\n\")\n",
    " "
   ]
  },
  {
   "cell_type": "markdown",
   "id": "e740a356-bced-409f-8e1d-603d3d569603",
   "metadata": {},
   "source": [
    "# single prediction"
   ]
  },
  {
   "cell_type": "code",
   "execution_count": 19,
   "id": "331f940d-0c1b-4835-8c69-d0036c1de517",
   "metadata": {},
   "outputs": [
    {
     "data": {
      "text/plain": [
       "1.0"
      ]
     },
     "execution_count": 19,
     "metadata": {},
     "output_type": "execute_result"
    }
   ],
   "source": [
    "# selecting svc\n",
    "svc = SVC(kernel='linear')\n",
    "svc.fit(X_train,y_train)\n",
    "ypred = svc.predict(X_test)\n",
    "accuracy_score(y_test,ypred)"
   ]
  },
  {
   "cell_type": "code",
   "execution_count": 20,
   "id": "9653e2db-8e39-4e22-8f0f-5934d8351faa",
   "metadata": {},
   "outputs": [],
   "source": [
    "# save svc\n",
    "import pickle\n",
    "pickle.dump(svc,open('svc.pkl','wb'))"
   ]
  },
  {
   "cell_type": "code",
   "execution_count": 21,
   "id": "b312d6c4-5ea2-4518-98b2-45d2780c45b0",
   "metadata": {},
   "outputs": [],
   "source": [
    "# load model\n",
    "svc = pickle.load(open('svc.pkl','rb'))"
   ]
  },
  {
   "cell_type": "code",
   "execution_count": 22,
   "id": "e5b0ef23-cc6c-4c5b-ab15-4b2e67b19e14",
   "metadata": {},
   "outputs": [
    {
     "name": "stdout",
     "output_type": "stream",
     "text": [
      "predicted disease : [40]\n",
      "Actual Disease : 40\n"
     ]
    }
   ],
   "source": [
    "# test 1:\n",
    "print(\"predicted disease :\",svc.predict(X_test.iloc[0].values.reshape(1,-1)))\n",
    "print(\"Actual Disease :\", y_test[0])"
   ]
  },
  {
   "cell_type": "code",
   "execution_count": 23,
   "id": "65243377-5acf-4156-84d3-ea50778551ba",
   "metadata": {},
   "outputs": [
    {
     "name": "stdout",
     "output_type": "stream",
     "text": [
      "predicted disease : [39]\n",
      "Actual Disease : 39\n"
     ]
    }
   ],
   "source": [
    "# test 2:\n",
    "print(\"predicted disease :\",svc.predict(X_test.iloc[100].values.reshape(1,-1)))\n",
    "print(\"Actual Disease :\", y_test[100])"
   ]
  },
  {
   "cell_type": "markdown",
   "id": "8c8c5b95-0ef1-4702-9eec-619be5e470ee",
   "metadata": {},
   "source": [
    "<h2 style=\"font-size: 26px; color: blue; text-align: center;\">\n",
    "    Recommendation System and Prediction\n",
    "</h2>\n"
   ]
  },
  {
   "cell_type": "markdown",
   "id": "a95e775d-3b2b-4659-a6a9-3063eac5266b",
   "metadata": {},
   "source": [
    "# load database and use logic for recommendations\n"
   ]
  },
  {
   "cell_type": "code",
   "execution_count": 24,
   "id": "c85a05c9-e276-45a6-bf3a-ec6b02360ec6",
   "metadata": {},
   "outputs": [],
   "source": [
    "precautions = pd.read_csv(\"precautions_df.csv\")"
   ]
  },
  {
   "cell_type": "code",
   "execution_count": 25,
   "id": "cd51af40-52b7-416e-9f7a-cef709bd4e41",
   "metadata": {},
   "outputs": [
    {
     "name": "stdout",
     "output_type": "stream",
     "text": [
      "Displaying the first 5 rows of the dataset:\n"
     ]
    },
    {
     "data": {
      "text/html": [
       "<div>\n",
       "<style scoped>\n",
       "    .dataframe tbody tr th:only-of-type {\n",
       "        vertical-align: middle;\n",
       "    }\n",
       "\n",
       "    .dataframe tbody tr th {\n",
       "        vertical-align: top;\n",
       "    }\n",
       "\n",
       "    .dataframe thead th {\n",
       "        text-align: right;\n",
       "    }\n",
       "</style>\n",
       "<table border=\"1\" class=\"dataframe\">\n",
       "  <thead>\n",
       "    <tr style=\"text-align: right;\">\n",
       "      <th></th>\n",
       "      <th>Unnamed: 0</th>\n",
       "      <th>Disease</th>\n",
       "      <th>Precaution_1</th>\n",
       "      <th>Precaution_2</th>\n",
       "      <th>Precaution_3</th>\n",
       "      <th>Precaution_4</th>\n",
       "    </tr>\n",
       "  </thead>\n",
       "  <tbody>\n",
       "    <tr>\n",
       "      <th>0</th>\n",
       "      <td>0</td>\n",
       "      <td>Drug Reaction</td>\n",
       "      <td>stop irritation</td>\n",
       "      <td>consult nearest hospital</td>\n",
       "      <td>stop taking drug</td>\n",
       "      <td>follow up</td>\n",
       "    </tr>\n",
       "    <tr>\n",
       "      <th>1</th>\n",
       "      <td>1</td>\n",
       "      <td>Malaria</td>\n",
       "      <td>Consult nearest hospital</td>\n",
       "      <td>avoid oily food</td>\n",
       "      <td>avoid non veg food</td>\n",
       "      <td>keep mosquitos out</td>\n",
       "    </tr>\n",
       "    <tr>\n",
       "      <th>2</th>\n",
       "      <td>2</td>\n",
       "      <td>Allergy</td>\n",
       "      <td>apply calamine</td>\n",
       "      <td>cover area with bandage</td>\n",
       "      <td>NaN</td>\n",
       "      <td>use ice to compress itching</td>\n",
       "    </tr>\n",
       "    <tr>\n",
       "      <th>3</th>\n",
       "      <td>3</td>\n",
       "      <td>Hypothyroidism</td>\n",
       "      <td>reduce stress</td>\n",
       "      <td>exercise</td>\n",
       "      <td>eat healthy</td>\n",
       "      <td>get proper sleep</td>\n",
       "    </tr>\n",
       "    <tr>\n",
       "      <th>4</th>\n",
       "      <td>4</td>\n",
       "      <td>Psoriasis</td>\n",
       "      <td>wash hands with warm soapy water</td>\n",
       "      <td>stop bleeding using pressure</td>\n",
       "      <td>consult doctor</td>\n",
       "      <td>salt baths</td>\n",
       "    </tr>\n",
       "  </tbody>\n",
       "</table>\n",
       "</div>"
      ],
      "text/plain": [
       "   Unnamed: 0         Disease                      Precaution_1  \\\n",
       "0           0   Drug Reaction                   stop irritation   \n",
       "1           1         Malaria          Consult nearest hospital   \n",
       "2           2         Allergy                    apply calamine   \n",
       "3           3  Hypothyroidism                     reduce stress   \n",
       "4           4       Psoriasis  wash hands with warm soapy water   \n",
       "\n",
       "                   Precaution_2        Precaution_3  \\\n",
       "0      consult nearest hospital    stop taking drug   \n",
       "1               avoid oily food  avoid non veg food   \n",
       "2       cover area with bandage                 NaN   \n",
       "3                      exercise         eat healthy   \n",
       "4  stop bleeding using pressure      consult doctor   \n",
       "\n",
       "                  Precaution_4  \n",
       "0                    follow up  \n",
       "1           keep mosquitos out  \n",
       "2  use ice to compress itching  \n",
       "3             get proper sleep  \n",
       "4                   salt baths  "
      ]
     },
     "execution_count": 25,
     "metadata": {},
     "output_type": "execute_result"
    }
   ],
   "source": [
    "# Display the first 5 rows of the data\n",
    "print(\"Displaying the first 5 rows of the dataset:\")\n",
    "precautions.head()"
   ]
  },
  {
   "cell_type": "code",
   "execution_count": 26,
   "id": "0564db33-08ba-45d4-83a6-0b1ba3fabd96",
   "metadata": {},
   "outputs": [
    {
     "name": "stdout",
     "output_type": "stream",
     "text": [
      "\n",
      "Dataset Analysis:\n",
      "Number of rows: 41\n",
      "Number of columns: 6\n",
      "\n",
      "Columns and their data types:\n",
      "Unnamed: 0       int64\n",
      "Disease         object\n",
      "Precaution_1    object\n",
      "Precaution_2    object\n",
      "Precaution_3    object\n",
      "Precaution_4    object\n",
      "dtype: object\n"
     ]
    }
   ],
   "source": [
    "# Data analysis\n",
    "print(\"\\nDataset Analysis:\")\n",
    "print(f\"Number of rows: {precautions.shape[0]}\")\n",
    "print(f\"Number of columns: {precautions.shape[1]}\")\n",
    "print(\"\\nColumns and their data types:\")\n",
    "print(precautions.dtypes)"
   ]
  },
  {
   "cell_type": "code",
   "execution_count": 27,
   "id": "6efdd471-cd43-41e8-abfb-93fbbe40ba9d",
   "metadata": {},
   "outputs": [
    {
     "name": "stdout",
     "output_type": "stream",
     "text": [
      "\n",
      "Number of missing values in each column:\n",
      "Unnamed: 0      0\n",
      "Disease         0\n",
      "Precaution_1    0\n",
      "Precaution_2    0\n",
      "Precaution_3    1\n",
      "Precaution_4    1\n",
      "dtype: int64\n"
     ]
    }
   ],
   "source": [
    "# Check for missing values\n",
    "print(\"\\nNumber of missing values in each column:\")\n",
    "print(precautions.isnull().sum())"
   ]
  },
  {
   "cell_type": "code",
   "execution_count": 28,
   "id": "041e5a5b-76a9-4eda-afc0-d5f925495516",
   "metadata": {},
   "outputs": [],
   "source": [
    "\n",
    "# Analysis and visualization of precautions for each disease\n",
    "precautions_columns = precautions.columns[1:]  # All columns containing precautions"
   ]
  },
  {
   "cell_type": "code",
   "execution_count": 29,
   "id": "89858b6e-8b48-461e-98bd-51c13750f0a2",
   "metadata": {},
   "outputs": [
    {
     "data": {
      "text/plain": [
       "Index(['Disease', 'Precaution_1', 'Precaution_2', 'Precaution_3',\n",
       "       'Precaution_4'],\n",
       "      dtype='object')"
      ]
     },
     "execution_count": 29,
     "metadata": {},
     "output_type": "execute_result"
    }
   ],
   "source": [
    "precautions_columns"
   ]
  },
  {
   "cell_type": "code",
   "execution_count": 30,
   "id": "95d78ac5-8a0c-4b7d-8dec-b5a813c8ea56",
   "metadata": {},
   "outputs": [],
   "source": [
    "\n",
    "sym_des = pd.read_csv(\"symtoms_df.csv\")"
   ]
  },
  {
   "cell_type": "code",
   "execution_count": 31,
   "id": "a9fd017d-e13f-41bb-9eed-4d8e13df01df",
   "metadata": {},
   "outputs": [
    {
     "name": "stdout",
     "output_type": "stream",
     "text": [
      "First 5 rows of the dataset:\n"
     ]
    },
    {
     "data": {
      "text/html": [
       "<div>\n",
       "<style scoped>\n",
       "    .dataframe tbody tr th:only-of-type {\n",
       "        vertical-align: middle;\n",
       "    }\n",
       "\n",
       "    .dataframe tbody tr th {\n",
       "        vertical-align: top;\n",
       "    }\n",
       "\n",
       "    .dataframe thead th {\n",
       "        text-align: right;\n",
       "    }\n",
       "</style>\n",
       "<table border=\"1\" class=\"dataframe\">\n",
       "  <thead>\n",
       "    <tr style=\"text-align: right;\">\n",
       "      <th></th>\n",
       "      <th>Unnamed: 0</th>\n",
       "      <th>Disease</th>\n",
       "      <th>Symptom_1</th>\n",
       "      <th>Symptom_2</th>\n",
       "      <th>Symptom_3</th>\n",
       "      <th>Symptom_4</th>\n",
       "    </tr>\n",
       "  </thead>\n",
       "  <tbody>\n",
       "    <tr>\n",
       "      <th>0</th>\n",
       "      <td>0</td>\n",
       "      <td>Fungal infection</td>\n",
       "      <td>itching</td>\n",
       "      <td>skin_rash</td>\n",
       "      <td>nodal_skin_eruptions</td>\n",
       "      <td>dischromic _patches</td>\n",
       "    </tr>\n",
       "    <tr>\n",
       "      <th>1</th>\n",
       "      <td>1</td>\n",
       "      <td>Fungal infection</td>\n",
       "      <td>skin_rash</td>\n",
       "      <td>nodal_skin_eruptions</td>\n",
       "      <td>dischromic _patches</td>\n",
       "      <td>NaN</td>\n",
       "    </tr>\n",
       "    <tr>\n",
       "      <th>2</th>\n",
       "      <td>2</td>\n",
       "      <td>Fungal infection</td>\n",
       "      <td>itching</td>\n",
       "      <td>nodal_skin_eruptions</td>\n",
       "      <td>dischromic _patches</td>\n",
       "      <td>NaN</td>\n",
       "    </tr>\n",
       "    <tr>\n",
       "      <th>3</th>\n",
       "      <td>3</td>\n",
       "      <td>Fungal infection</td>\n",
       "      <td>itching</td>\n",
       "      <td>skin_rash</td>\n",
       "      <td>dischromic _patches</td>\n",
       "      <td>NaN</td>\n",
       "    </tr>\n",
       "    <tr>\n",
       "      <th>4</th>\n",
       "      <td>4</td>\n",
       "      <td>Fungal infection</td>\n",
       "      <td>itching</td>\n",
       "      <td>skin_rash</td>\n",
       "      <td>nodal_skin_eruptions</td>\n",
       "      <td>NaN</td>\n",
       "    </tr>\n",
       "  </tbody>\n",
       "</table>\n",
       "</div>"
      ],
      "text/plain": [
       "   Unnamed: 0           Disease   Symptom_1              Symptom_2  \\\n",
       "0           0  Fungal infection     itching              skin_rash   \n",
       "1           1  Fungal infection   skin_rash   nodal_skin_eruptions   \n",
       "2           2  Fungal infection     itching   nodal_skin_eruptions   \n",
       "3           3  Fungal infection     itching              skin_rash   \n",
       "4           4  Fungal infection     itching              skin_rash   \n",
       "\n",
       "               Symptom_3             Symptom_4  \n",
       "0   nodal_skin_eruptions   dischromic _patches  \n",
       "1    dischromic _patches                   NaN  \n",
       "2    dischromic _patches                   NaN  \n",
       "3    dischromic _patches                   NaN  \n",
       "4   nodal_skin_eruptions                   NaN  "
      ]
     },
     "execution_count": 31,
     "metadata": {},
     "output_type": "execute_result"
    }
   ],
   "source": [
    "\n",
    "# Display the first few rows\n",
    "print(\"First 5 rows of the dataset:\")\n",
    "sym_des.head()"
   ]
  },
  {
   "cell_type": "code",
   "execution_count": 32,
   "id": "51cec113-df29-4430-9067-70c4c2374796",
   "metadata": {},
   "outputs": [
    {
     "name": "stdout",
     "output_type": "stream",
     "text": [
      "\n",
      "Dataset Summary:\n",
      "<class 'pandas.core.frame.DataFrame'>\n",
      "RangeIndex: 4920 entries, 0 to 4919\n",
      "Columns: 133 entries, itching to prognosis\n",
      "dtypes: int64(132), object(1)\n",
      "memory usage: 5.0+ MB\n",
      "None\n"
     ]
    }
   ],
   "source": [
    "# Display dataset summary\n",
    "print(\"\\nDataset Summary:\")\n",
    "print(df.info())"
   ]
  },
  {
   "cell_type": "code",
   "execution_count": 33,
   "id": "4bdde817-bbdc-413a-8852-5007cb92a699",
   "metadata": {},
   "outputs": [
    {
     "name": "stdout",
     "output_type": "stream",
     "text": [
      "\n",
      "Missing Values:\n",
      "itching                 0\n",
      "skin_rash               0\n",
      "nodal_skin_eruptions    0\n",
      "continuous_sneezing     0\n",
      "shivering               0\n",
      "                       ..\n",
      "inflammatory_nails      0\n",
      "blister                 0\n",
      "red_sore_around_nose    0\n",
      "yellow_crust_ooze       0\n",
      "prognosis               0\n",
      "Length: 133, dtype: int64\n"
     ]
    }
   ],
   "source": [
    "\n",
    "# Check for missing values\n",
    "print(\"\\nMissing Values:\")\n",
    "print(df.isnull().sum())"
   ]
  },
  {
   "cell_type": "code",
   "execution_count": 34,
   "id": "cf6c14ee-374d-4b8e-8081-9417605c106f",
   "metadata": {},
   "outputs": [],
   "source": [
    "description = pd.read_csv(\"description.csv\")\n"
   ]
  },
  {
   "cell_type": "code",
   "execution_count": 35,
   "id": "cf76abec-d352-4f1c-b38e-b44eeb3a1009",
   "metadata": {},
   "outputs": [
    {
     "name": "stdout",
     "output_type": "stream",
     "text": [
      "               Disease                                        Description\n",
      "0     Fungal infection  Fungal infection is a common skin condition ca...\n",
      "1              Allergy  Allergy is an immune system reaction to a subs...\n",
      "2                 GERD  GERD (Gastroesophageal Reflux Disease) is a di...\n",
      "3  Chronic cholestasis  Chronic cholestasis is a condition where bile ...\n",
      "4        Drug Reaction  Drug Reaction occurs when the body reacts adve...\n"
     ]
    }
   ],
   "source": [
    "# Displaying the first few rows of the data to understand its structure\n",
    "print(description.head())"
   ]
  },
  {
   "cell_type": "code",
   "execution_count": 36,
   "id": "ff607ac4-cdd6-4297-b389-4be3a4bf2178",
   "metadata": {},
   "outputs": [
    {
     "name": "stdout",
     "output_type": "stream",
     "text": [
      "<class 'pandas.core.frame.DataFrame'>\n",
      "RangeIndex: 41 entries, 0 to 40\n",
      "Data columns (total 2 columns):\n",
      " #   Column       Non-Null Count  Dtype \n",
      "---  ------       --------------  ----- \n",
      " 0   Disease      41 non-null     object\n",
      " 1   Description  41 non-null     object\n",
      "dtypes: object(2)\n",
      "memory usage: 788.0+ bytes\n",
      "None\n"
     ]
    }
   ],
   "source": [
    "# Display general information about the dataset\n",
    "print(description.info())"
   ]
  },
  {
   "cell_type": "code",
   "execution_count": 37,
   "id": "73e4675b-f9fe-47c4-9d16-1e416ca7998d",
   "metadata": {},
   "outputs": [
    {
     "name": "stdout",
     "output_type": "stream",
     "text": [
      "Disease        0\n",
      "Description    0\n",
      "dtype: int64\n"
     ]
    }
   ],
   "source": [
    "# Checking for missing values\n",
    "print(description.isnull().sum())"
   ]
  },
  {
   "cell_type": "code",
   "execution_count": 38,
   "id": "f666f2ce-c648-4f26-97a8-7760d47e5f9f",
   "metadata": {},
   "outputs": [],
   "source": [
    "diets = pd.read_csv(\"diets.csv\")"
   ]
  },
  {
   "cell_type": "code",
   "execution_count": 39,
   "id": "a676c9ce-9d93-4c8b-8a94-fe91762366ec",
   "metadata": {},
   "outputs": [
    {
     "name": "stdout",
     "output_type": "stream",
     "text": [
      "Dataset Preview:\n"
     ]
    },
    {
     "data": {
      "text/html": [
       "<div>\n",
       "<style scoped>\n",
       "    .dataframe tbody tr th:only-of-type {\n",
       "        vertical-align: middle;\n",
       "    }\n",
       "\n",
       "    .dataframe tbody tr th {\n",
       "        vertical-align: top;\n",
       "    }\n",
       "\n",
       "    .dataframe thead th {\n",
       "        text-align: right;\n",
       "    }\n",
       "</style>\n",
       "<table border=\"1\" class=\"dataframe\">\n",
       "  <thead>\n",
       "    <tr style=\"text-align: right;\">\n",
       "      <th></th>\n",
       "      <th>Disease</th>\n",
       "      <th>Diet</th>\n",
       "    </tr>\n",
       "  </thead>\n",
       "  <tbody>\n",
       "    <tr>\n",
       "      <th>0</th>\n",
       "      <td>Fungal infection</td>\n",
       "      <td>['Antifungal Diet', 'Probiotics', 'Garlic', 'C...</td>\n",
       "    </tr>\n",
       "    <tr>\n",
       "      <th>1</th>\n",
       "      <td>Allergy</td>\n",
       "      <td>['Elimination Diet', 'Omega-3-rich foods', 'Vi...</td>\n",
       "    </tr>\n",
       "    <tr>\n",
       "      <th>2</th>\n",
       "      <td>GERD</td>\n",
       "      <td>['Low-Acid Diet', 'Fiber-rich foods', 'Ginger'...</td>\n",
       "    </tr>\n",
       "    <tr>\n",
       "      <th>3</th>\n",
       "      <td>Chronic cholestasis</td>\n",
       "      <td>['Low-Fat Diet', 'High-Fiber Diet', 'Lean prot...</td>\n",
       "    </tr>\n",
       "    <tr>\n",
       "      <th>4</th>\n",
       "      <td>Drug Reaction</td>\n",
       "      <td>['Antihistamine Diet', 'Omega-3-rich foods', '...</td>\n",
       "    </tr>\n",
       "  </tbody>\n",
       "</table>\n",
       "</div>"
      ],
      "text/plain": [
       "               Disease                                               Diet\n",
       "0     Fungal infection  ['Antifungal Diet', 'Probiotics', 'Garlic', 'C...\n",
       "1              Allergy  ['Elimination Diet', 'Omega-3-rich foods', 'Vi...\n",
       "2                 GERD  ['Low-Acid Diet', 'Fiber-rich foods', 'Ginger'...\n",
       "3  Chronic cholestasis  ['Low-Fat Diet', 'High-Fiber Diet', 'Lean prot...\n",
       "4        Drug Reaction  ['Antihistamine Diet', 'Omega-3-rich foods', '..."
      ]
     },
     "execution_count": 39,
     "metadata": {},
     "output_type": "execute_result"
    }
   ],
   "source": [
    "# Display the first few rows of the dataset\n",
    "print(\"Dataset Preview:\")\n",
    "diets.head()"
   ]
  },
  {
   "cell_type": "code",
   "execution_count": 40,
   "id": "135e8e52-8774-4663-a95d-18e811f88bdc",
   "metadata": {},
   "outputs": [
    {
     "name": "stdout",
     "output_type": "stream",
     "text": [
      "\n",
      "Dataset Information:\n",
      "<class 'pandas.core.frame.DataFrame'>\n",
      "RangeIndex: 41 entries, 0 to 40\n",
      "Data columns (total 2 columns):\n",
      " #   Column   Non-Null Count  Dtype \n",
      "---  ------   --------------  ----- \n",
      " 0   Disease  41 non-null     object\n",
      " 1   Diet     41 non-null     object\n",
      "dtypes: object(2)\n",
      "memory usage: 788.0+ bytes\n",
      "None\n"
     ]
    }
   ],
   "source": [
    "\n",
    "# Basic Information about the dataset\n",
    "print(\"\\nDataset Information:\")\n",
    "print(diets.info())"
   ]
  },
  {
   "cell_type": "code",
   "execution_count": 41,
   "id": "85078028-7906-4a7c-bf3c-ff614fe9e187",
   "metadata": {},
   "outputs": [
    {
     "name": "stdout",
     "output_type": "stream",
     "text": [
      "\n",
      "Summary Statistics:\n",
      "Number of unique diseases: 41\n",
      "Number of unique diets: 36\n"
     ]
    }
   ],
   "source": [
    "# Summary statistics\n",
    "print(\"\\nSummary Statistics:\")\n",
    "print(f\"Number of unique diseases: {diets['Disease'].nunique()}\")\n",
    "print(f\"Number of unique diets: {diets['Diet'].nunique()}\")\n"
   ]
  },
  {
   "cell_type": "code",
   "execution_count": 42,
   "id": "43891e1a-d12a-4728-9007-0a080f3c88e4",
   "metadata": {},
   "outputs": [
    {
     "name": "stdout",
     "output_type": "stream",
     "text": [
      "\n",
      "Number of diets per disease:\n",
      "Disease\n",
      "(vertigo) Paroymsal Positional Vertigo    1\n",
      "AIDS                                      1\n",
      "Acne                                      1\n",
      "Alcoholic hepatitis                       1\n",
      "Allergy                                   1\n",
      "Arthritis                                 1\n",
      "Bronchial Asthma                          1\n",
      "Cervical spondylosis                      1\n",
      "Chicken pox                               1\n",
      "Chronic cholestasis                       1\n",
      "Common Cold                               1\n",
      "Dengue                                    1\n",
      "Diabetes                                  1\n",
      "Dimorphic hemmorhoids(piles)              1\n",
      "Drug Reaction                             1\n",
      "Fungal infection                          1\n",
      "GERD                                      1\n",
      "Gastroenteritis                           1\n",
      "Heart attack                              1\n",
      "Hepatitis B                               1\n",
      "Hepatitis C                               1\n",
      "Hepatitis D                               1\n",
      "Hepatitis E                               1\n",
      "Hypertension                              1\n",
      "Hyperthyroidism                           1\n",
      "Hypoglycemia                              1\n",
      "Hypothyroidism                            1\n",
      "Impetigo                                  1\n",
      "Jaundice                                  1\n",
      "Malaria                                   1\n",
      "Migraine                                  1\n",
      "Osteoarthristis                           1\n",
      "Paralysis (brain hemorrhage)              1\n",
      "Peptic ulcer disease                      1\n",
      "Pneumonia                                 1\n",
      "Psoriasis                                 1\n",
      "Tuberculosis                              1\n",
      "Typhoid                                   1\n",
      "Urinary tract infection                   1\n",
      "Varicose veins                            1\n",
      "hepatitis A                               1\n",
      "Name: Diet, dtype: int64\n"
     ]
    }
   ],
   "source": [
    "# Count diets per disease\n",
    "diets_count = diets.groupby('Disease')['Diet'].count()\n",
    "print(\"\\nNumber of diets per disease:\")\n",
    "print(diets_count)"
   ]
  },
  {
   "cell_type": "code",
   "execution_count": 43,
   "id": "63b707b3-30bb-4768-81c1-1e42428f5792",
   "metadata": {},
   "outputs": [],
   "source": [
    "# Statistical analysis of diet distribution\n",
    "mean_diets = diets_count.mean()\n",
    "std_diets = diets_count.std()\n",
    "max_diets = diets_count.max()\n",
    "min_diets = diets_count.min()"
   ]
  },
  {
   "cell_type": "code",
   "execution_count": 44,
   "id": "b2437933-b8d7-453c-b594-28a9ff0fdd64",
   "metadata": {},
   "outputs": [
    {
     "name": "stdout",
     "output_type": "stream",
     "text": [
      "\n",
      "Mean number of diets per disease: 1.0\n",
      "Standard deviation of diets per disease: 0.0\n",
      "Maximum number of diets for a single disease: 1\n",
      "Minimum number of diets for a single disease: 1\n"
     ]
    }
   ],
   "source": [
    "\n",
    "print(f\"\\nMean number of diets per disease: {mean_diets}\")\n",
    "print(f\"Standard deviation of diets per disease: {std_diets}\")\n",
    "print(f\"Maximum number of diets for a single disease: {max_diets}\")\n",
    "print(f\"Minimum number of diets for a single disease: {min_diets}\")"
   ]
  },
  {
   "cell_type": "code",
   "execution_count": 45,
   "id": "b8148970-d74e-4949-82aa-6d26f7052514",
   "metadata": {},
   "outputs": [
    {
     "data": {
      "image/png": "[encoded data removed]",
      "text/plain": [
       "<Figure size 1000x600 with 1 Axes>"
      ]
     },
     "metadata": {},
     "output_type": "display_data"
    }
   ],
   "source": [
    "# Visualization\n",
    "\n",
    "# Bar plot for number of diets per disease\n",
    "plt.figure(figsize=(10, 6))\n",
    "diets_count.plot(kind='bar', color='skyblue', edgecolor='black')\n",
    "plt.title('Number of Diets per Disease', fontsize=16)\n",
    "plt.xlabel('Disease', fontsize=14)\n",
    "plt.ylabel('Number of Diets', fontsize=14)\n",
    "plt.xticks(rotation=90, fontsize=12)\n",
    "plt.grid(axis='y', linestyle='--', alpha=0.7)\n",
    "plt.tight_layout()\n",
    "plt.show()"
   ]
  },
  {
   "cell_type": "code",
   "execution_count": 46,
   "id": "91b03ff3-fedc-4502-acaf-31e0fffc7af5",
   "metadata": {},
   "outputs": [],
   "source": [
    "medications = pd.read_csv('medications.csv')\n"
   ]
  },
  {
   "cell_type": "code",
   "execution_count": 47,
   "id": "0e42bc62-22db-4672-bdcc-c2b76434b578",
   "metadata": {},
   "outputs": [
    {
     "name": "stdout",
     "output_type": "stream",
     "text": [
      "Dataset Preview:\n"
     ]
    },
    {
     "data": {
      "text/html": [
       "<div>\n",
       "<style scoped>\n",
       "    .dataframe tbody tr th:only-of-type {\n",
       "        vertical-align: middle;\n",
       "    }\n",
       "\n",
       "    .dataframe tbody tr th {\n",
       "        vertical-align: top;\n",
       "    }\n",
       "\n",
       "    .dataframe thead th {\n",
       "        text-align: right;\n",
       "    }\n",
       "</style>\n",
       "<table border=\"1\" class=\"dataframe\">\n",
       "  <thead>\n",
       "    <tr style=\"text-align: right;\">\n",
       "      <th></th>\n",
       "      <th>Disease</th>\n",
       "      <th>Medication</th>\n",
       "    </tr>\n",
       "  </thead>\n",
       "  <tbody>\n",
       "    <tr>\n",
       "      <th>0</th>\n",
       "      <td>Fungal infection</td>\n",
       "      <td>['Antifungal Cream', 'Fluconazole', 'Terbinafi...</td>\n",
       "    </tr>\n",
       "    <tr>\n",
       "      <th>1</th>\n",
       "      <td>Allergy</td>\n",
       "      <td>['Antihistamines', 'Decongestants', 'Epinephri...</td>\n",
       "    </tr>\n",
       "    <tr>\n",
       "      <th>2</th>\n",
       "      <td>GERD</td>\n",
       "      <td>['Proton Pump Inhibitors (PPIs)', 'H2 Blockers...</td>\n",
       "    </tr>\n",
       "    <tr>\n",
       "      <th>3</th>\n",
       "      <td>Chronic cholestasis</td>\n",
       "      <td>['Ursodeoxycholic acid', 'Cholestyramine', 'Me...</td>\n",
       "    </tr>\n",
       "    <tr>\n",
       "      <th>4</th>\n",
       "      <td>Drug Reaction</td>\n",
       "      <td>['Antihistamines', 'Epinephrine', 'Corticoster...</td>\n",
       "    </tr>\n",
       "  </tbody>\n",
       "</table>\n",
       "</div>"
      ],
      "text/plain": [
       "               Disease                                         Medication\n",
       "0     Fungal infection  ['Antifungal Cream', 'Fluconazole', 'Terbinafi...\n",
       "1              Allergy  ['Antihistamines', 'Decongestants', 'Epinephri...\n",
       "2                 GERD  ['Proton Pump Inhibitors (PPIs)', 'H2 Blockers...\n",
       "3  Chronic cholestasis  ['Ursodeoxycholic acid', 'Cholestyramine', 'Me...\n",
       "4        Drug Reaction  ['Antihistamines', 'Epinephrine', 'Corticoster..."
      ]
     },
     "execution_count": 47,
     "metadata": {},
     "output_type": "execute_result"
    }
   ],
   "source": [
    "\n",
    "# Display the first few rows of the dataset\n",
    "print(\"Dataset Preview:\")\n",
    "medications.head()"
   ]
  },
  {
   "cell_type": "code",
   "execution_count": 48,
   "id": "d035e49b-1582-40e4-8876-c13e63ad4ef7",
   "metadata": {},
   "outputs": [
    {
     "name": "stdout",
     "output_type": "stream",
     "text": [
      "\n",
      "Dataset Information:\n",
      "<class 'pandas.core.frame.DataFrame'>\n",
      "RangeIndex: 41 entries, 0 to 40\n",
      "Data columns (total 2 columns):\n",
      " #   Column      Non-Null Count  Dtype \n",
      "---  ------      --------------  ----- \n",
      " 0   Disease     41 non-null     object\n",
      " 1   Medication  41 non-null     object\n",
      "dtypes: object(2)\n",
      "memory usage: 788.0+ bytes\n",
      "None\n"
     ]
    }
   ],
   "source": [
    "\n",
    "# Basic Information about the dataset\n",
    "print(\"\\nDataset Information:\")\n",
    "print(medications.info())"
   ]
  },
  {
   "cell_type": "code",
   "execution_count": 49,
   "id": "5917a77e-ed28-4be6-a296-31ddec12e31a",
   "metadata": {},
   "outputs": [
    {
     "name": "stdout",
     "output_type": "stream",
     "text": [
      "\n",
      "Summary Statistics:\n",
      "Number of unique diseases: 41\n",
      "Number of unique medications: 38\n"
     ]
    }
   ],
   "source": [
    "\n",
    "# Summary statistics\n",
    "print(\"\\nSummary Statistics:\")\n",
    "print(f\"Number of unique diseases: {medications['Disease'].nunique()}\")\n",
    "print(f\"Number of unique medications: {medications['Medication'].nunique()}\")"
   ]
  },
  {
   "cell_type": "code",
   "execution_count": 50,
   "id": "814892ab-d372-4d6b-a710-58563d6ea3d5",
   "metadata": {},
   "outputs": [
    {
     "name": "stdout",
     "output_type": "stream",
     "text": [
      "\n",
      "Number of medications per disease:\n",
      "Disease\n",
      "(vertigo) Paroymsal Positional Vertigo    1\n",
      "AIDS                                      1\n",
      "Acne                                      1\n",
      "Alcoholic hepatitis                       1\n",
      "Allergy                                   1\n",
      "Arthritis                                 1\n",
      "Bronchial Asthma                          1\n",
      "Cervical spondylosis                      1\n",
      "Chicken pox                               1\n",
      "Chronic cholestasis                       1\n",
      "Common Cold                               1\n",
      "Dengue                                    1\n",
      "Diabetes                                  1\n",
      "Dimorphic hemmorhoids(piles)              1\n",
      "Drug Reaction                             1\n",
      "Fungal infection                          1\n",
      "GERD                                      1\n",
      "Gastroenteritis                           1\n",
      "Heart attack                              1\n",
      "Hepatitis B                               1\n",
      "Hepatitis C                               1\n",
      "Hepatitis D                               1\n",
      "Hepatitis E                               1\n",
      "Hypertension                              1\n",
      "Hyperthyroidism                           1\n",
      "Hypoglycemia                              1\n",
      "Hypothyroidism                            1\n",
      "Impetigo                                  1\n",
      "Jaundice                                  1\n",
      "Malaria                                   1\n",
      "Migraine                                  1\n",
      "Osteoarthristis                           1\n",
      "Paralysis (brain hemorrhage)              1\n",
      "Peptic ulcer disease                      1\n",
      "Pneumonia                                 1\n",
      "Psoriasis                                 1\n",
      "Tuberculosis                              1\n",
      "Typhoid                                   1\n",
      "Urinary tract infection                   1\n",
      "Varicose veins                            1\n",
      "hepatitis A                               1\n",
      "Name: Medication, dtype: int64\n"
     ]
    }
   ],
   "source": [
    "# Count medications per disease\n",
    "medications_count = medications.groupby('Disease')['Medication'].count()\n",
    "print(\"\\nNumber of medications per disease:\")\n",
    "print(medications_count)"
   ]
  },
  {
   "cell_type": "code",
   "execution_count": 51,
   "id": "aab0420a-8a8b-4d64-bc7b-3c6cc9c38a53",
   "metadata": {},
   "outputs": [
    {
     "name": "stdout",
     "output_type": "stream",
     "text": [
      "\n",
      "Mean number of medications per disease: 1.0\n",
      "Standard deviation of medications per disease: 0.0\n",
      "Maximum number of medications for a single disease: 1\n",
      "Minimum number of medications for a single disease: 1\n"
     ]
    }
   ],
   "source": [
    "\n",
    "# Statistical analysis of medication distribution\n",
    "mean_medications = medications_count.mean()\n",
    "std_medications = medications_count.std()\n",
    "max_medications = medications_count.max()\n",
    "min_medications = medications_count.min()\n",
    "\n",
    "print(f\"\\nMean number of medications per disease: {mean_medications}\")\n",
    "print(f\"Standard deviation of medications per disease: {std_medications}\")\n",
    "print(f\"Maximum number of medications for a single disease: {max_medications}\")\n",
    "print(f\"Minimum number of medications for a single disease: {min_medications}\")"
   ]
  },
  {
   "cell_type": "code",
   "execution_count": 52,
   "id": "2be14f1b-aa51-4dfd-b332-20d04201e833",
   "metadata": {},
   "outputs": [
    {
     "data": {
      "image/png": "[encoded data removed]",
      "text/plain": [
       "<Figure size 1000x600 with 1 Axes>"
      ]
     },
     "metadata": {},
     "output_type": "display_data"
    }
   ],
   "source": [
    "\n",
    "# Visualization\n",
    "\n",
    "# Bar plot for number of medications per disease\n",
    "plt.figure(figsize=(10, 6))\n",
    "medications_count.plot(kind='bar', color='lightgreen', edgecolor='black')\n",
    "plt.title('Number of Medications per Disease', fontsize=16)\n",
    "plt.xlabel('Disease', fontsize=14)\n",
    "plt.ylabel('Number of Medications', fontsize=14)\n",
    "plt.xticks(rotation=90, fontsize=12)\n",
    "plt.grid(axis='y', linestyle='--', alpha=0.7)\n",
    "plt.tight_layout()\n",
    "plt.show()"
   ]
  },
  {
   "cell_type": "code",
   "execution_count": 53,
   "id": "beb8a5f9-d857-43e4-be9c-8561307f744b",
   "metadata": {},
   "outputs": [
    {
     "data": {
      "image/png": "[encoded data removed]",
      "text/plain": [
       "<Figure size 1000x600 with 1 Axes>"
      ]
     },
     "metadata": {},
     "output_type": "display_data"
    }
   ],
   "source": [
    "\n",
    "# Top 10 diseases with the most medications\n",
    "top_diseases = medications_count.sort_values(ascending=False).head(10)\n",
    "\n",
    "plt.figure(figsize=(10, 6))\n",
    "top_diseases.plot(kind='barh', color='orange', edgecolor='black')\n",
    "plt.title('Top 10 Diseases with the Most Medications', fontsize=16)\n",
    "plt.xlabel('Number of Medications', fontsize=14)\n",
    "plt.ylabel('Disease', fontsize=14)\n",
    "plt.xticks(fontsize=12)\n",
    "plt.yticks(fontsize=12)\n",
    "plt.gca().invert_yaxis()  # Invert y-axis for horizontal bar chart\n",
    "plt.grid(axis='x', linestyle='--', alpha=0.7)\n",
    "plt.tight_layout()\n",
    "plt.show()"
   ]
  },
  {
   "cell_type": "code",
   "execution_count": 54,
   "id": "f3321c68-dad6-4bd4-893e-78d8756d6b40",
   "metadata": {},
   "outputs": [],
   "source": [
    "workout = pd.read_csv(\"workout_df.csv\")"
   ]
  },
  {
   "cell_type": "code",
   "execution_count": 55,
   "id": "87d34406-5b51-4015-874d-eb2b27ce1b41",
   "metadata": {},
   "outputs": [
    {
     "name": "stdout",
     "output_type": "stream",
     "text": [
      "Dataset Preview:\n"
     ]
    },
    {
     "data": {
      "text/html": [
       "<div>\n",
       "<style scoped>\n",
       "    .dataframe tbody tr th:only-of-type {\n",
       "        vertical-align: middle;\n",
       "    }\n",
       "\n",
       "    .dataframe tbody tr th {\n",
       "        vertical-align: top;\n",
       "    }\n",
       "\n",
       "    .dataframe thead th {\n",
       "        text-align: right;\n",
       "    }\n",
       "</style>\n",
       "<table border=\"1\" class=\"dataframe\">\n",
       "  <thead>\n",
       "    <tr style=\"text-align: right;\">\n",
       "      <th></th>\n",
       "      <th>Unnamed: 0.1</th>\n",
       "      <th>Unnamed: 0</th>\n",
       "      <th>disease</th>\n",
       "      <th>workout</th>\n",
       "    </tr>\n",
       "  </thead>\n",
       "  <tbody>\n",
       "    <tr>\n",
       "      <th>0</th>\n",
       "      <td>0</td>\n",
       "      <td>0</td>\n",
       "      <td>Fungal infection</td>\n",
       "      <td>Avoid sugary foods</td>\n",
       "    </tr>\n",
       "    <tr>\n",
       "      <th>1</th>\n",
       "      <td>1</td>\n",
       "      <td>1</td>\n",
       "      <td>Fungal infection</td>\n",
       "      <td>Consume probiotics</td>\n",
       "    </tr>\n",
       "    <tr>\n",
       "      <th>2</th>\n",
       "      <td>2</td>\n",
       "      <td>2</td>\n",
       "      <td>Fungal infection</td>\n",
       "      <td>Increase intake of garlic</td>\n",
       "    </tr>\n",
       "    <tr>\n",
       "      <th>3</th>\n",
       "      <td>3</td>\n",
       "      <td>3</td>\n",
       "      <td>Fungal infection</td>\n",
       "      <td>Include yogurt in diet</td>\n",
       "    </tr>\n",
       "    <tr>\n",
       "      <th>4</th>\n",
       "      <td>4</td>\n",
       "      <td>4</td>\n",
       "      <td>Fungal infection</td>\n",
       "      <td>Limit processed foods</td>\n",
       "    </tr>\n",
       "  </tbody>\n",
       "</table>\n",
       "</div>"
      ],
      "text/plain": [
       "   Unnamed: 0.1  Unnamed: 0           disease                    workout\n",
       "0             0           0  Fungal infection         Avoid sugary foods\n",
       "1             1           1  Fungal infection         Consume probiotics\n",
       "2             2           2  Fungal infection  Increase intake of garlic\n",
       "3             3           3  Fungal infection     Include yogurt in diet\n",
       "4             4           4  Fungal infection      Limit processed foods"
      ]
     },
     "execution_count": 55,
     "metadata": {},
     "output_type": "execute_result"
    }
   ],
   "source": [
    "# Display the first few rows of the dataset\n",
    "print(\"Dataset Preview:\")\n",
    "workout.head()"
   ]
  },
  {
   "cell_type": "code",
   "execution_count": 56,
   "id": "0000f8d8-fb4a-4623-9b6c-5f21c2f77cc2",
   "metadata": {},
   "outputs": [
    {
     "name": "stdout",
     "output_type": "stream",
     "text": [
      "\n",
      "Dataset Information:\n",
      "<class 'pandas.core.frame.DataFrame'>\n",
      "RangeIndex: 410 entries, 0 to 409\n",
      "Data columns (total 4 columns):\n",
      " #   Column        Non-Null Count  Dtype \n",
      "---  ------        --------------  ----- \n",
      " 0   Unnamed: 0.1  410 non-null    int64 \n",
      " 1   Unnamed: 0    410 non-null    int64 \n",
      " 2   disease       410 non-null    object\n",
      " 3   workout       410 non-null    object\n",
      "dtypes: int64(2), object(2)\n",
      "memory usage: 12.9+ KB\n",
      "None\n"
     ]
    }
   ],
   "source": [
    "# Basic information about the dataset\n",
    "print(\"\\nDataset Information:\")\n",
    "print(workout.info())"
   ]
  },
  {
   "cell_type": "code",
   "execution_count": 57,
   "id": "3e8c6dbd-18ec-4eda-8b07-d19b33d3f2be",
   "metadata": {},
   "outputs": [
    {
     "name": "stdout",
     "output_type": "stream",
     "text": [
      "\n",
      "Missing Values:\n",
      "Unnamed: 0.1    0\n",
      "Unnamed: 0      0\n",
      "disease         0\n",
      "workout         0\n",
      "dtype: int64\n"
     ]
    }
   ],
   "source": [
    "# Check for missing values\n",
    "missing_values = workout.isnull().sum()\n",
    "print(\"\\nMissing Values:\")\n",
    "print(missing_values)"
   ]
  },
  {
   "cell_type": "code",
   "execution_count": 58,
   "id": "c6165b24-0042-4c35-b773-7b2cce8843ce",
   "metadata": {},
   "outputs": [
    {
     "name": "stdout",
     "output_type": "stream",
     "text": [
      "\n",
      "Unique values in 'disease': 41\n",
      "disease\n",
      "Fungal infection                           10\n",
      "Hepatitis C                                10\n",
      "Hepatitis E                                10\n",
      "Alcoholic hepatitis                        10\n",
      "Tuberculosis                               10\n",
      "Common Cold                                10\n",
      "Pneumonia                                  10\n",
      "Dimorphic hemmorhoids(piles)               10\n",
      "Heart attack                               10\n",
      "Varicose veins                             10\n",
      "Hypothyroidism                             10\n",
      "Hyperthyroidism                            10\n",
      "Hypoglycemia                               10\n",
      "Osteoarthristis                            10\n",
      "Arthritis                                  10\n",
      "(vertigo) Paroymsal  Positional Vertigo    10\n",
      "Acne                                       10\n",
      "Urinary tract infection                    10\n",
      "Psoriasis                                  10\n",
      "Hepatitis D                                10\n",
      "Hepatitis B                                10\n",
      "Allergy                                    10\n",
      "hepatitis A                                10\n",
      "GERD                                       10\n",
      "Chronic cholestasis                        10\n",
      "Drug Reaction                              10\n",
      "Peptic ulcer disease                       10\n",
      "AIDS                                       10\n",
      "Diabetes                                   10\n",
      "Gastroenteritis                            10\n",
      "Bronchial Asthma                           10\n",
      "Hypertension                               10\n",
      "Migraine                                   10\n",
      "Cervical spondylosis                       10\n",
      "Paralysis (brain hemorrhage)               10\n",
      "Jaundice                                   10\n",
      "Malaria                                    10\n",
      "Chicken pox                                10\n",
      "Dengue                                     10\n",
      "Typhoid                                    10\n",
      "Impetigo                                   10\n",
      "Name: count, dtype: int64\n",
      "\n",
      "Unique values in 'workout': 140\n",
      "workout\n",
      "Stay hydrated                        42\n",
      "Consult a healthcare professional    34\n",
      "Follow medical recommendations       18\n",
      "Gradually resume normal diet         15\n",
      "Limit processed foods                14\n",
      "                                     ..\n",
      "Take prescribed supplements           1\n",
      "Consume immune-boosting foods         1\n",
      "Avoid raw or undercooked foods        1\n",
      "Avoid smoking and alcohol             1\n",
      "Practice wound care                   1\n",
      "Name: count, Length: 140, dtype: int64\n"
     ]
    }
   ],
   "source": [
    "# Unique counts for categorical columns\n",
    "for col in workout.select_dtypes(include=['object']).columns:\n",
    "    print(f\"\\nUnique values in '{col}': {workout[col].nunique()}\")\n",
    "    print(workout[col].value_counts())"
   ]
  },
  {
   "cell_type": "code",
   "execution_count": 66,
   "id": "cc6100f1-ddb0-4a9d-85ef-91e4d660482c",
   "metadata": {},
   "outputs": [],
   "source": [
    "#============================================================\n",
    "# custome and helping functions\n",
    "#==========================helper funtions================\n",
    "def helper(dis):\n",
    "    desc = description[description['Disease'] == predicted_disease]['Description']\n",
    "    desc = \" \".join([w for w in desc])\n",
    "\n",
    "    pre = precautions[precautions['Disease'] == dis][['Precaution_1', 'Precaution_2', 'Precaution_3', 'Precaution_4']]\n",
    "    pre = [col for col in pre.values]\n",
    "\n",
    "    med = medications[medications['Disease'] == dis]['Medication']\n",
    "    med = [med for med in med.values]\n",
    "\n",
    "    die = diets[diets['Disease'] == dis]['Diet']\n",
    "    die = [die for die in die.values]\n",
    "\n",
    "    wrkout = workout[workout['disease'] == dis] ['workout']\n",
    "\n",
    "\n",
    "    return desc,pre,med,die,wrkout\n",
    "\n",
    "symptoms_dict = {'itching': 0, 'skin_rash': 1, 'nodal_skin_eruptions': 2, 'continuous_sneezing': 3, 'shivering': 4, 'chills': 5, 'joint_pain': 6, 'stomach_pain': 7, 'acidity': 8, 'ulcers_on_tongue': 9, 'muscle_wasting': 10, 'vomiting': 11, 'burning_micturition': 12, 'spotting_ urination': 13, 'fatigue': 14, 'weight_gain': 15, 'anxiety': 16, 'cold_hands_and_feets': 17, 'mood_swings': 18, 'weight_loss': 19, 'restlessness': 20, 'lethargy': 21, 'patches_in_throat': 22, 'irregular_sugar_level': 23, 'cough': 24, 'high_fever': 25, 'sunken_eyes': 26, 'breathlessness': 27, 'sweating': 28, 'dehydration': 29, 'indigestion': 30, 'headache': 31, 'yellowish_skin': 32, 'dark_urine': 33, 'nausea': 34, 'loss_of_appetite': 35, 'pain_behind_the_eyes': 36, 'back_pain': 37, 'constipation': 38, 'abdominal_pain': 39, 'diarrhoea': 40, 'mild_fever': 41, 'yellow_urine': 42, 'yellowing_of_eyes': 43, 'acute_liver_failure': 44, 'fluid_overload': 45, 'swelling_of_stomach': 46, 'swelled_lymph_nodes': 47, 'malaise': 48, 'blurred_and_distorted_vision': 49, 'phlegm': 50, 'throat_irritation': 51, 'redness_of_eyes': 52, 'sinus_pressure': 53, 'runny_nose': 54, 'congestion': 55, 'chest_pain': 56, 'weakness_in_limbs': 57, 'fast_heart_rate': 58, 'pain_during_bowel_movements': 59, 'pain_in_anal_region': 60, 'bloody_stool': 61, 'irritation_in_anus': 62, 'neck_pain': 63, 'dizziness': 64, 'cramps': 65, 'bruising': 66, 'obesity': 67, 'swollen_legs': 68, 'swollen_blood_vessels': 69, 'puffy_face_and_eyes': 70, 'enlarged_thyroid': 71, 'brittle_nails': 72, 'swollen_extremeties': 73, 'excessive_hunger': 74, 'extra_marital_contacts': 75, 'drying_and_tingling_lips': 76, 'slurred_speech': 77, 'knee_pain': 78, 'hip_joint_pain': 79, 'muscle_weakness': 80, 'stiff_neck': 81, 'swelling_joints': 82, 'movement_stiffness': 83, 'spinning_movements': 84, 'loss_of_balance': 85, 'unsteadiness': 86, 'weakness_of_one_body_side': 87, 'loss_of_smell': 88, 'bladder_discomfort': 89, 'foul_smell_of urine': 90, 'continuous_feel_of_urine': 91, 'passage_of_gases': 92, 'internal_itching': 93, 'toxic_look_(typhos)': 94, 'depression': 95, 'irritability': 96, 'muscle_pain': 97, 'altered_sensorium': 98, 'red_spots_over_body': 99, 'belly_pain': 100, 'abnormal_menstruation': 101, 'dischromic _patches': 102, 'watering_from_eyes': 103, 'increased_appetite': 104, 'polyuria': 105, 'family_history': 106, 'mucoid_sputum': 107, 'rusty_sputum': 108, 'lack_of_concentration': 109, 'visual_disturbances': 110, 'receiving_blood_transfusion': 111, 'receiving_unsterile_injections': 112, 'coma': 113, 'stomach_bleeding': 114, 'distention_of_abdomen': 115, 'history_of_alcohol_consumption': 116, 'fluid_overload.1': 117, 'blood_in_sputum': 118, 'prominent_veins_on_calf': 119, 'palpitations': 120, 'painful_walking': 121, 'pus_filled_pimples': 122, 'blackheads': 123, 'scurring': 124, 'skin_peeling': 125, 'silver_like_dusting': 126, 'small_dents_in_nails': 127, 'inflammatory_nails': 128, 'blister': 129, 'red_sore_around_nose': 130, 'yellow_crust_ooze': 131}\n",
    "diseases_list = {15: 'Fungal infection', 4: 'Allergy', 16: 'GERD', 9: 'Chronic cholestasis', 14: 'Drug Reaction', 33: 'Peptic ulcer diseae', 1: 'AIDS', 12: 'Diabetes ', 17: 'Gastroenteritis', 6: 'Bronchial Asthma', 23: 'Hypertension ', 30: 'Migraine', 7: 'Cervical spondylosis', 32: 'Paralysis (brain hemorrhage)', 28: 'Jaundice', 29: 'Malaria', 8: 'Chicken pox', 11: 'Dengue', 37: 'Typhoid', 40: 'hepatitis A', 19: 'Hepatitis B', 20: 'Hepatitis C', 21: 'Hepatitis D', 22: 'Hepatitis E', 3: 'Alcoholic hepatitis', 36: 'Tuberculosis', 10: 'Common Cold', 34: 'Pneumonia', 13: 'Dimorphic hemmorhoids(piles)', 18: 'Heart attack', 39: 'Varicose veins', 26: 'Hypothyroidism', 24: 'Hyperthyroidism', 25: 'Hypoglycemia', 31: 'Osteoarthristis', 5: 'Arthritis', 0: '(vertigo) Paroymsal  Positional Vertigo', 2: 'Acne', 38: 'Urinary tract infection', 35: 'Psoriasis', 27: 'Impetigo'}\n",
    "\n",
    "# Model Prediction function\n",
    "def get_predicted_value(patient_symptoms):\n",
    "    input_vector = np.zeros(len(symptoms_dict))\n",
    "    for item in patient_symptoms:\n",
    "        input_vector[symptoms_dict[item]] = 1\n",
    "    return diseases_list[svc.predict([input_vector])[0]]"
   ]
  },
  {
   "cell_type": "code",
   "execution_count": 67,
   "id": "fb962ebe-92c2-48c3-9014-deba42109ff1",
   "metadata": {},
   "outputs": [
    {
     "name": "stdin",
     "output_type": "stream",
     "text": [
      "Enter your symptoms....... itching,skin_rash,nodal_skin_eruptions\n"
     ]
    },
    {
     "name": "stdout",
     "output_type": "stream",
     "text": [
      "=================predicted disease============\n",
      "Fungal infection\n",
      "=================description==================\n",
      "Fungal infection is a common skin condition caused by fungi.\n",
      "=================precautions==================\n",
      "1 :  bath twice\n",
      "2 :  use detol or neem in bathing water\n",
      "3 :  keep infected area dry\n",
      "4 :  use clean cloths\n",
      "=================medications==================\n",
      "5 :  ['Antifungal Cream', 'Fluconazole', 'Terbinafine', 'Clotrimazole', 'Ketoconazole']\n",
      "=================workout==================\n",
      "6 :  Avoid sugary foods\n",
      "7 :  Consume probiotics\n",
      "8 :  Increase intake of garlic\n",
      "9 :  Include yogurt in diet\n",
      "10 :  Limit processed foods\n",
      "11 :  Stay hydrated\n",
      "12 :  Consume green tea\n",
      "13 :  Eat foods rich in zinc\n",
      "14 :  Include turmeric in diet\n",
      "15 :  Eat fruits and vegetables\n",
      "=================diets==================\n",
      "16 :  ['Antifungal Diet', 'Probiotics', 'Garlic', 'Coconut oil', 'Turmeric']\n"
     ]
    }
   ],
   "source": [
    "# Test 1\n",
    "# Split the user's input into a list of symptoms (assuming they are comma-separated) # itching,skin_rash,nodal_skin_eruptions\n",
    "symptoms = input(\"Enter your symptoms.......\")\n",
    "user_symptoms = [s.strip() for s in symptoms.split(',')]\n",
    "# Remove any extra characters, if any\n",
    "user_symptoms = [symptom.strip(\"[]' \") for symptom in user_symptoms]\n",
    "predicted_disease = get_predicted_value(user_symptoms)\n",
    "\n",
    "desc, pre, med, die, wrkout = helper(predicted_disease)\n",
    "\n",
    "print(\"=================predicted disease============\")\n",
    "print(predicted_disease)\n",
    "print(\"=================description==================\")\n",
    "print(desc)\n",
    "print(\"=================precautions==================\")\n",
    "i = 1\n",
    "for p_i in pre[0]:\n",
    "    print(i, \": \", p_i)\n",
    "    i += 1\n",
    "\n",
    "print(\"=================medications==================\")\n",
    "for m_i in med:\n",
    "    print(i, \": \", m_i)\n",
    "    i += 1\n",
    "\n",
    "print(\"=================workout==================\")\n",
    "for w_i in wrkout:\n",
    "    print(i, \": \", w_i)\n",
    "    i += 1\n",
    "\n",
    "print(\"=================diets==================\")\n",
    "for d_i in die:\n",
    "    print(i, \": \", d_i)\n",
    "    i += 1\n"
   ]
  },
  {
   "cell_type": "code",
   "execution_count": 68,
   "id": "758ea177-d124-4f02-86bf-2d783342490d",
   "metadata": {},
   "outputs": [
    {
     "name": "stdin",
     "output_type": "stream",
     "text": [
      "Enter your symptoms....... yellow_crust_ooze,red_sore_around_nose,small_dents_in_nails,inflammatory_nails,blister\n"
     ]
    },
    {
     "name": "stdout",
     "output_type": "stream",
     "text": [
      "=================predicted disease============\n",
      "Impetigo\n",
      "=================description==================\n",
      "Impetigo is a highly contagious skin infection causing red sores that can break open.\n",
      "=================precautions==================\n",
      "1 :  soak affected area in warm water\n",
      "2 :  use antibiotics\n",
      "3 :  remove scabs with wet compressed cloth\n",
      "4 :  consult doctor\n",
      "=================medications==================\n",
      "5 :  ['Topical antibiotics', 'Oral antibiotics', 'Antiseptics', 'Ointments', 'Warm compresses']\n",
      "=================workout==================\n",
      "6 :  Maintain good hygiene\n",
      "7 :  Stay hydrated\n",
      "8 :  Consume nutrient-rich foods\n",
      "9 :  Limit sugary foods and beverages\n",
      "10 :  Include foods rich in vitamin C\n",
      "11 :  Consult a healthcare professional\n",
      "12 :  Follow medical recommendations\n",
      "13 :  Avoid scratching\n",
      "14 :  Take prescribed antibiotics\n",
      "15 :  Practice wound care\n",
      "=================diets==================\n",
      "16 :  ['Impetigo Diet', 'Antibiotic treatment', 'Fruits and vegetables', 'Hydration', 'Protein-rich foods']\n"
     ]
    }
   ],
   "source": [
    "# Test 1\n",
    "# Split the user's input into a list of symptoms (assuming they are comma-separated) # yellow_crust_ooze,red_sore_around_nose,small_dents_in_nails,inflammatory_nails,blister\n",
    "symptoms = input(\"Enter your symptoms.......\")\n",
    "user_symptoms = [s.strip() for s in symptoms.split(',')]\n",
    "# Remove any extra characters, if any\n",
    "user_symptoms = [symptom.strip(\"[]' \") for symptom in user_symptoms]\n",
    "predicted_disease = get_predicted_value(user_symptoms)\n",
    "\n",
    "desc, pre, med, die, wrkout = helper(predicted_disease)\n",
    "\n",
    "print(\"=================predicted disease============\")\n",
    "print(predicted_disease)\n",
    "print(\"=================description==================\")\n",
    "print(desc)\n",
    "print(\"=================precautions==================\")\n",
    "i = 1\n",
    "for p_i in pre[0]:\n",
    "    print(i, \": \", p_i)\n",
    "    i += 1\n",
    "\n",
    "print(\"=================medications==================\")\n",
    "for m_i in med:\n",
    "    print(i, \": \", m_i)\n",
    "    i += 1\n",
    "\n",
    "print(\"=================workout==================\")\n",
    "for w_i in wrkout:\n",
    "    print(i, \": \", w_i)\n",
    "    i += 1\n",
    "\n",
    "print(\"=================diets==================\")\n",
    "for d_i in die:\n",
    "    print(i, \": \", d_i)\n",
    "    i += 1\n"
   ]
  },
  {
   "cell_type": "markdown",
   "id": "c0d78ba0-a9bb-4376-9ad1-658d0d4c4e58",
   "metadata": {},
   "source": [
    "<h1 style=\"text-align: center; color: #4CAF50;\">Welcome to the Medical System Project</h1>\r\n",
    "<p style=\"text-align: center;\">This page serves as an overview of the project and its goals. Below, you'll find enhanced questions and answers related to the project's purpose, challenges, and future scope.</p>\r\n",
    "\r\n",
    "<div style=\"background-color: #f9f9f9; border-left: 5px solid #4CAF50; padding: 10px; margin-bottom: 20px;\">\r\n",
    "    <strong style=\"color: #2196F3;\">Q1: What is the main goal of this project?</strong>\r\n",
    "    <p>The main goal is to provide preliminary health advice based on symptoms and help users identify potential diseases.</p>\r\n",
    "</div>\r\n",
    "\r\n",
    "<div style=\"background-color: #f9f9f9; border-left: 5px solid #4CAF50; padding: 10px; margin-bottom: 20px;\">\r\n",
    "    <strong style=\"color: #2196F3;\">Q2: Why was this project created?</strong>\r\n",
    "    <p>It was created to offer accessible health assessments for individuals who may not have immediate access to healthcare professionals.</p>\r\n",
    "</div>\r\n",
    "\r\n",
    "<div style=\"background-color: #f9f9f9; border-left: 5px solid #4CAF50; padding: 10px; margin-bottom: 20px;\">\r\n",
    "    <strong style=\"color: #2196F3;\">Q3: What societal need does this project address?</strong>\r\n",
    "    <p>It addresses the need for quick and reliable preliminary medical assessments, especially in remote areas or during emergencies.</p>\r\n",
    "</div>\r\n",
    "\r\n",
    "<div style=\"background-color: #f9f9f9; border-left: 5px solid #4CAF50; padding: 10px; margin-bottom: 20px;\">\r\n",
    "    <strong style=\"color: #2196F3;\">Q4: Who is the target audience for this system?</strong>\r\n",
    "    <p>The system targets individuals seeking health advice and initial assessments, particularly those in underserved regions.</p>\r\n",
    "</div>\r\n",
    "\r\n",
    "<div style=\"background-color: #f9f9f9; border-left: 5px solid #4CAF50; padding: 10px; margin-bottom: 20px;\">\r\n",
    "    <strong style=\"color: #2196F3;\">Q5: What makes this project unique?</strong>\r\n",
    "    <p>The combination of machine learning for disease prediction with personalized health advice distinguishes it from other tools.</p>\r\n",
    "</div>\r\n",
    "\r\n",
    "<div style=\"background-color: #f9f9f9; border-left: 5px solid #4CAF50; padding: 10px; margin-bottom: 20px;\">\r\n",
    "    <strong style=\"color: #2196F3;\">Q6: What challenges does this project aim to solve?</strong>\r\n",
    "    <p>It aims to reduce delays in receiving medical advice and bridge the gap between patients and healthcare services.</p>\r\n",
    "</div>\r\n",
    "\r\n",
    "<div style=\"background-color: #f9f9f9; border-left: 5px solid #4CAF50; padding: 10px; margin-bottom: 20px;\">\r\n",
    "    <strong style=\"color: #2196F3;\">Q7: How can this project benefit healthcare systems?</strong>\r\n",
    "    <p>By reducing unnecessary consultations, it eases the burden on healthcare providers and optimizes resource use.</p>\r\n",
    "</div>\r\n",
    "\r\n",
    "<div style=\"background-color: #f9f9f9; border-left: 5px solid #4CAF50; padding: 10px; margin-bottom: 20px;\">\r\n",
    "    <strong style=\"color: #2196F3;\">Q8: What are the limitations of this project?</strong>\r\n",
    "    <p>It cannot replace professional medical advice and relies heavily on the quality and comprehensiveness of its training data.</p>\r\n",
    "</div>\r\n",
    "\r\n",
    "<div style=\"background-color: #f9f9f9; border-left: 5px solid #4CAF50; padding: 10px; margin-bottom: 20px;\">\r\n",
    "    <strong style=\"color: #2196F3;\">Q9: What inspired the development of this project?</strong>\r\n",
    "    <p>The project was inspired by global healthcare challenges, particularly during crises like the COVID-19 pandemic.</p>\r\n",
    "</div>\r\n",
    "\r\n",
    "<div style=\"background-color: #f9f9f9; border-left: 5px solid #4CAF50; padding: 10px;\">\r\n",
    "    <strong style=\"color: #2196F3;\">Q10: What future enhancements are planned for this project?</strong>\r\n",
    "    <p>Plans include improving AI accuracy, adding real-time data integration, and supporting multiple languages for global accessibility.</p>\r\n",
    "</div>\r\n",
    "\r\n",
    "<p style=\"text-align: center;\">To learn more about this project, explore the enhanced comments in the source code!</p>\r\n",
    "roject, explore the comments in the source code!</p>\r\n",
    "explore the comments in the source code!</p>\r\n",
    "</body>\r\n",
    "</html>\r\n"
   ]
  },
  {
   "cell_type": "markdown",
   "id": "f5fdbda0-a2c7-41bc-942d-969021283e2c",
   "metadata": {},
   "source": []
  },
  {
   "cell_type": "markdown",
   "id": "fd477a18-3c7f-4e08-a31a-47a25a3790c9",
   "metadata": {},
   "source": [
    "<h2 style=\"font-size: 30px; color: green; text-align: center;\">\n",
    "    Thank You!\n",
    "</h2>\n",
    "<p style=\"font-size: 20px; color: blue; text-align: center;\">\n",
    "    Your attention and effort are greatly appreciated. Thank you for your time!\n",
    "</p>\n"
   ]
  }
 ],
 "metadata": {
  "kernelspec": {
   "display_name": "Python (Abdullah)",
   "language": "python",
   "name": "abdullah"
  },
  "language_info": {
   "codemirror_mode": {
    "name": "ipython",
    "version": 3
   },
   "file_extension": ".py",
   "mimetype": "text/x-python",
   "name": "python",
   "nbconvert_exporter": "python",
   "pygments_lexer": "ipython3",
   "version": "3.12.2"
  }
 },
 "nbformat": 4,
 "nbformat_minor": 5
}
